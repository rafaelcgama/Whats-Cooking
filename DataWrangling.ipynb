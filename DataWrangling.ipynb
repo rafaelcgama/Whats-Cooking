{
 "cells": [
  {
   "cell_type": "markdown",
   "metadata": {},
   "source": [
    "# **Data Wrangling**\n",
    "In this notebook we will dummify the dataset and start to manipulate the dataset with the goal to decrease the total amount of attributes.\n",
    "\n",
    "### Load Train Dataset"
   ]
  },
  {
   "cell_type": "code",
   "execution_count": 81,
   "metadata": {},
   "outputs": [],
   "source": [
    "import pandas as pd\n",
    "from pandas import DataFrame, Series\n",
    "import matplotlib.pyplot as plt\n",
    "from matplotlib import rcParams\n",
    "import seaborn as sb\n",
    "import numpy as np\n",
    "from IPython.core.interactiveshell import InteractiveShell\n",
    "import Methods\n",
    "InteractiveShell.ast_node_interactivity = \"all\"\n",
    "#%matplotlib inline\n",
    "rcParams['figure.figsize'] = 12, 10\n",
    "sb.set_style('whitegrid')"
   ]
  },
  {
   "cell_type": "code",
   "execution_count": 82,
   "metadata": {},
   "outputs": [
    {
     "name": "stdout",
     "output_type": "stream",
     "text": [
      "<class 'pandas.core.frame.DataFrame'>\n",
      "RangeIndex: 39774 entries, 0 to 39773\n",
      "Data columns (total 3 columns):\n",
      "cuisine        39774 non-null object\n",
      "id             39774 non-null int64\n",
      "ingredients    39774 non-null object\n",
      "dtypes: int64(1), object(2)\n",
      "memory usage: 932.3+ KB\n"
     ]
    }
   ],
   "source": [
    "df_original = pd.read_json('dataset/train.json')\n",
    "df_original.info()"
   ]
  },
  {
   "cell_type": "markdown",
   "metadata": {},
   "source": [
    "## Dummify the whole dataset"
   ]
  },
  {
   "cell_type": "code",
   "execution_count": 83,
   "metadata": {},
   "outputs": [
    {
     "data": {
      "text/html": [
       "<div>\n",
       "<style scoped>\n",
       "    .dataframe tbody tr th:only-of-type {\n",
       "        vertical-align: middle;\n",
       "    }\n",
       "\n",
       "    .dataframe tbody tr th {\n",
       "        vertical-align: top;\n",
       "    }\n",
       "\n",
       "    .dataframe thead th {\n",
       "        text-align: right;\n",
       "    }\n",
       "</style>\n",
       "<table border=\"1\" class=\"dataframe\">\n",
       "  <thead>\n",
       "    <tr style=\"text-align: right;\">\n",
       "      <th></th>\n",
       "      <th>(    oz.) tomato sauce</th>\n",
       "      <th>(   oz.) tomato paste</th>\n",
       "      <th>(10 oz.) frozen chopped spinach</th>\n",
       "      <th>(10 oz.) frozen chopped spinach, thawed and squeezed dry</th>\n",
       "      <th>(14 oz.) sweetened condensed milk</th>\n",
       "      <th>(14.5 oz.) diced tomatoes</th>\n",
       "      <th>(15 oz.) refried beans</th>\n",
       "      <th>1% low-fat buttermilk</th>\n",
       "      <th>1% low-fat chocolate milk</th>\n",
       "      <th>1% low-fat cottage cheese</th>\n",
       "      <th>...</th>\n",
       "      <th>yukon gold potatoes</th>\n",
       "      <th>yuzu</th>\n",
       "      <th>yuzu juice</th>\n",
       "      <th>za'atar</th>\n",
       "      <th>zest</th>\n",
       "      <th>zesty italian dressing</th>\n",
       "      <th>zinfandel</th>\n",
       "      <th>ziti</th>\n",
       "      <th>zucchini</th>\n",
       "      <th>zucchini blossoms</th>\n",
       "    </tr>\n",
       "  </thead>\n",
       "  <tbody>\n",
       "    <tr>\n",
       "      <th>0</th>\n",
       "      <td>0</td>\n",
       "      <td>0</td>\n",
       "      <td>0</td>\n",
       "      <td>0</td>\n",
       "      <td>0</td>\n",
       "      <td>0</td>\n",
       "      <td>0</td>\n",
       "      <td>0</td>\n",
       "      <td>0</td>\n",
       "      <td>0</td>\n",
       "      <td>...</td>\n",
       "      <td>0</td>\n",
       "      <td>0</td>\n",
       "      <td>0</td>\n",
       "      <td>0</td>\n",
       "      <td>0</td>\n",
       "      <td>0</td>\n",
       "      <td>0</td>\n",
       "      <td>0</td>\n",
       "      <td>0</td>\n",
       "      <td>0</td>\n",
       "    </tr>\n",
       "    <tr>\n",
       "      <th>1</th>\n",
       "      <td>0</td>\n",
       "      <td>0</td>\n",
       "      <td>0</td>\n",
       "      <td>0</td>\n",
       "      <td>0</td>\n",
       "      <td>0</td>\n",
       "      <td>0</td>\n",
       "      <td>0</td>\n",
       "      <td>0</td>\n",
       "      <td>0</td>\n",
       "      <td>...</td>\n",
       "      <td>0</td>\n",
       "      <td>0</td>\n",
       "      <td>0</td>\n",
       "      <td>0</td>\n",
       "      <td>0</td>\n",
       "      <td>0</td>\n",
       "      <td>0</td>\n",
       "      <td>0</td>\n",
       "      <td>0</td>\n",
       "      <td>0</td>\n",
       "    </tr>\n",
       "    <tr>\n",
       "      <th>2</th>\n",
       "      <td>0</td>\n",
       "      <td>0</td>\n",
       "      <td>0</td>\n",
       "      <td>0</td>\n",
       "      <td>0</td>\n",
       "      <td>0</td>\n",
       "      <td>0</td>\n",
       "      <td>0</td>\n",
       "      <td>0</td>\n",
       "      <td>0</td>\n",
       "      <td>...</td>\n",
       "      <td>0</td>\n",
       "      <td>0</td>\n",
       "      <td>0</td>\n",
       "      <td>0</td>\n",
       "      <td>0</td>\n",
       "      <td>0</td>\n",
       "      <td>0</td>\n",
       "      <td>0</td>\n",
       "      <td>0</td>\n",
       "      <td>0</td>\n",
       "    </tr>\n",
       "    <tr>\n",
       "      <th>3</th>\n",
       "      <td>0</td>\n",
       "      <td>0</td>\n",
       "      <td>0</td>\n",
       "      <td>0</td>\n",
       "      <td>0</td>\n",
       "      <td>0</td>\n",
       "      <td>0</td>\n",
       "      <td>0</td>\n",
       "      <td>0</td>\n",
       "      <td>0</td>\n",
       "      <td>...</td>\n",
       "      <td>0</td>\n",
       "      <td>0</td>\n",
       "      <td>0</td>\n",
       "      <td>0</td>\n",
       "      <td>0</td>\n",
       "      <td>0</td>\n",
       "      <td>0</td>\n",
       "      <td>0</td>\n",
       "      <td>0</td>\n",
       "      <td>0</td>\n",
       "    </tr>\n",
       "    <tr>\n",
       "      <th>4</th>\n",
       "      <td>0</td>\n",
       "      <td>0</td>\n",
       "      <td>0</td>\n",
       "      <td>0</td>\n",
       "      <td>0</td>\n",
       "      <td>0</td>\n",
       "      <td>0</td>\n",
       "      <td>0</td>\n",
       "      <td>0</td>\n",
       "      <td>0</td>\n",
       "      <td>...</td>\n",
       "      <td>0</td>\n",
       "      <td>0</td>\n",
       "      <td>0</td>\n",
       "      <td>0</td>\n",
       "      <td>0</td>\n",
       "      <td>0</td>\n",
       "      <td>0</td>\n",
       "      <td>0</td>\n",
       "      <td>0</td>\n",
       "      <td>0</td>\n",
       "    </tr>\n",
       "  </tbody>\n",
       "</table>\n",
       "<p>5 rows × 6714 columns</p>\n",
       "</div>"
      ],
      "text/plain": [
       "   (    oz.) tomato sauce  (   oz.) tomato paste  \\\n",
       "0                       0                      0   \n",
       "1                       0                      0   \n",
       "2                       0                      0   \n",
       "3                       0                      0   \n",
       "4                       0                      0   \n",
       "\n",
       "   (10 oz.) frozen chopped spinach  \\\n",
       "0                                0   \n",
       "1                                0   \n",
       "2                                0   \n",
       "3                                0   \n",
       "4                                0   \n",
       "\n",
       "   (10 oz.) frozen chopped spinach, thawed and squeezed dry  \\\n",
       "0                                                  0          \n",
       "1                                                  0          \n",
       "2                                                  0          \n",
       "3                                                  0          \n",
       "4                                                  0          \n",
       "\n",
       "   (14 oz.) sweetened condensed milk  (14.5 oz.) diced tomatoes  \\\n",
       "0                                  0                          0   \n",
       "1                                  0                          0   \n",
       "2                                  0                          0   \n",
       "3                                  0                          0   \n",
       "4                                  0                          0   \n",
       "\n",
       "   (15 oz.) refried beans  1% low-fat buttermilk  1% low-fat chocolate milk  \\\n",
       "0                       0                      0                          0   \n",
       "1                       0                      0                          0   \n",
       "2                       0                      0                          0   \n",
       "3                       0                      0                          0   \n",
       "4                       0                      0                          0   \n",
       "\n",
       "   1% low-fat cottage cheese        ...          yukon gold potatoes  yuzu  \\\n",
       "0                          0        ...                            0     0   \n",
       "1                          0        ...                            0     0   \n",
       "2                          0        ...                            0     0   \n",
       "3                          0        ...                            0     0   \n",
       "4                          0        ...                            0     0   \n",
       "\n",
       "   yuzu juice  za'atar  zest  zesty italian dressing  zinfandel  ziti  \\\n",
       "0           0        0     0                       0          0     0   \n",
       "1           0        0     0                       0          0     0   \n",
       "2           0        0     0                       0          0     0   \n",
       "3           0        0     0                       0          0     0   \n",
       "4           0        0     0                       0          0     0   \n",
       "\n",
       "   zucchini  zucchini blossoms  \n",
       "0         0                  0  \n",
       "1         0                  0  \n",
       "2         0                  0  \n",
       "3         0                  0  \n",
       "4         0                  0  \n",
       "\n",
       "[5 rows x 6714 columns]"
      ]
     },
     "execution_count": 83,
     "metadata": {},
     "output_type": "execute_result"
    },
    {
     "data": {
      "text/plain": [
       "(39774, 6714)"
      ]
     },
     "execution_count": 83,
     "metadata": {},
     "output_type": "execute_result"
    }
   ],
   "source": [
    "from sklearn.preprocessing import MultiLabelBinarizer\n",
    "\n",
    "mlb = MultiLabelBinarizer()\n",
    "\n",
    "dummies_original = DataFrame(mlb.fit_transform(df_original['ingredients']), columns=mlb.classes_, index=df_original.index)\n",
    "dummies_original.head()\n",
    "dummies_original.shape"
   ]
  },
  {
   "cell_type": "code",
   "execution_count": 84,
   "metadata": {},
   "outputs": [
    {
     "data": {
      "text/html": [
       "<div>\n",
       "<style scoped>\n",
       "    .dataframe tbody tr th:only-of-type {\n",
       "        vertical-align: middle;\n",
       "    }\n",
       "\n",
       "    .dataframe tbody tr th {\n",
       "        vertical-align: top;\n",
       "    }\n",
       "\n",
       "    .dataframe thead th {\n",
       "        text-align: right;\n",
       "    }\n",
       "</style>\n",
       "<table border=\"1\" class=\"dataframe\">\n",
       "  <thead>\n",
       "    <tr style=\"text-align: right;\">\n",
       "      <th></th>\n",
       "      <th>cuisine</th>\n",
       "      <th>id</th>\n",
       "      <th>(    oz.) tomato sauce</th>\n",
       "      <th>(   oz.) tomato paste</th>\n",
       "      <th>(10 oz.) frozen chopped spinach</th>\n",
       "      <th>(10 oz.) frozen chopped spinach, thawed and squeezed dry</th>\n",
       "      <th>(14 oz.) sweetened condensed milk</th>\n",
       "      <th>(14.5 oz.) diced tomatoes</th>\n",
       "      <th>(15 oz.) refried beans</th>\n",
       "      <th>1% low-fat buttermilk</th>\n",
       "      <th>...</th>\n",
       "      <th>yukon gold potatoes</th>\n",
       "      <th>yuzu</th>\n",
       "      <th>yuzu juice</th>\n",
       "      <th>za'atar</th>\n",
       "      <th>zest</th>\n",
       "      <th>zesty italian dressing</th>\n",
       "      <th>zinfandel</th>\n",
       "      <th>ziti</th>\n",
       "      <th>zucchini</th>\n",
       "      <th>zucchini blossoms</th>\n",
       "    </tr>\n",
       "  </thead>\n",
       "  <tbody>\n",
       "    <tr>\n",
       "      <th>0</th>\n",
       "      <td>greek</td>\n",
       "      <td>10259</td>\n",
       "      <td>0</td>\n",
       "      <td>0</td>\n",
       "      <td>0</td>\n",
       "      <td>0</td>\n",
       "      <td>0</td>\n",
       "      <td>0</td>\n",
       "      <td>0</td>\n",
       "      <td>0</td>\n",
       "      <td>...</td>\n",
       "      <td>0</td>\n",
       "      <td>0</td>\n",
       "      <td>0</td>\n",
       "      <td>0</td>\n",
       "      <td>0</td>\n",
       "      <td>0</td>\n",
       "      <td>0</td>\n",
       "      <td>0</td>\n",
       "      <td>0</td>\n",
       "      <td>0</td>\n",
       "    </tr>\n",
       "    <tr>\n",
       "      <th>1</th>\n",
       "      <td>southern_us</td>\n",
       "      <td>25693</td>\n",
       "      <td>0</td>\n",
       "      <td>0</td>\n",
       "      <td>0</td>\n",
       "      <td>0</td>\n",
       "      <td>0</td>\n",
       "      <td>0</td>\n",
       "      <td>0</td>\n",
       "      <td>0</td>\n",
       "      <td>...</td>\n",
       "      <td>0</td>\n",
       "      <td>0</td>\n",
       "      <td>0</td>\n",
       "      <td>0</td>\n",
       "      <td>0</td>\n",
       "      <td>0</td>\n",
       "      <td>0</td>\n",
       "      <td>0</td>\n",
       "      <td>0</td>\n",
       "      <td>0</td>\n",
       "    </tr>\n",
       "    <tr>\n",
       "      <th>2</th>\n",
       "      <td>filipino</td>\n",
       "      <td>20130</td>\n",
       "      <td>0</td>\n",
       "      <td>0</td>\n",
       "      <td>0</td>\n",
       "      <td>0</td>\n",
       "      <td>0</td>\n",
       "      <td>0</td>\n",
       "      <td>0</td>\n",
       "      <td>0</td>\n",
       "      <td>...</td>\n",
       "      <td>0</td>\n",
       "      <td>0</td>\n",
       "      <td>0</td>\n",
       "      <td>0</td>\n",
       "      <td>0</td>\n",
       "      <td>0</td>\n",
       "      <td>0</td>\n",
       "      <td>0</td>\n",
       "      <td>0</td>\n",
       "      <td>0</td>\n",
       "    </tr>\n",
       "    <tr>\n",
       "      <th>3</th>\n",
       "      <td>indian</td>\n",
       "      <td>22213</td>\n",
       "      <td>0</td>\n",
       "      <td>0</td>\n",
       "      <td>0</td>\n",
       "      <td>0</td>\n",
       "      <td>0</td>\n",
       "      <td>0</td>\n",
       "      <td>0</td>\n",
       "      <td>0</td>\n",
       "      <td>...</td>\n",
       "      <td>0</td>\n",
       "      <td>0</td>\n",
       "      <td>0</td>\n",
       "      <td>0</td>\n",
       "      <td>0</td>\n",
       "      <td>0</td>\n",
       "      <td>0</td>\n",
       "      <td>0</td>\n",
       "      <td>0</td>\n",
       "      <td>0</td>\n",
       "    </tr>\n",
       "    <tr>\n",
       "      <th>4</th>\n",
       "      <td>indian</td>\n",
       "      <td>13162</td>\n",
       "      <td>0</td>\n",
       "      <td>0</td>\n",
       "      <td>0</td>\n",
       "      <td>0</td>\n",
       "      <td>0</td>\n",
       "      <td>0</td>\n",
       "      <td>0</td>\n",
       "      <td>0</td>\n",
       "      <td>...</td>\n",
       "      <td>0</td>\n",
       "      <td>0</td>\n",
       "      <td>0</td>\n",
       "      <td>0</td>\n",
       "      <td>0</td>\n",
       "      <td>0</td>\n",
       "      <td>0</td>\n",
       "      <td>0</td>\n",
       "      <td>0</td>\n",
       "      <td>0</td>\n",
       "    </tr>\n",
       "  </tbody>\n",
       "</table>\n",
       "<p>5 rows × 6716 columns</p>\n",
       "</div>"
      ],
      "text/plain": [
       "       cuisine     id  (    oz.) tomato sauce  (   oz.) tomato paste  \\\n",
       "0        greek  10259                       0                      0   \n",
       "1  southern_us  25693                       0                      0   \n",
       "2     filipino  20130                       0                      0   \n",
       "3       indian  22213                       0                      0   \n",
       "4       indian  13162                       0                      0   \n",
       "\n",
       "   (10 oz.) frozen chopped spinach  \\\n",
       "0                                0   \n",
       "1                                0   \n",
       "2                                0   \n",
       "3                                0   \n",
       "4                                0   \n",
       "\n",
       "   (10 oz.) frozen chopped spinach, thawed and squeezed dry  \\\n",
       "0                                                  0          \n",
       "1                                                  0          \n",
       "2                                                  0          \n",
       "3                                                  0          \n",
       "4                                                  0          \n",
       "\n",
       "   (14 oz.) sweetened condensed milk  (14.5 oz.) diced tomatoes  \\\n",
       "0                                  0                          0   \n",
       "1                                  0                          0   \n",
       "2                                  0                          0   \n",
       "3                                  0                          0   \n",
       "4                                  0                          0   \n",
       "\n",
       "   (15 oz.) refried beans  1% low-fat buttermilk        ...          \\\n",
       "0                       0                      0        ...           \n",
       "1                       0                      0        ...           \n",
       "2                       0                      0        ...           \n",
       "3                       0                      0        ...           \n",
       "4                       0                      0        ...           \n",
       "\n",
       "   yukon gold potatoes  yuzu  yuzu juice  za'atar  zest  \\\n",
       "0                    0     0           0        0     0   \n",
       "1                    0     0           0        0     0   \n",
       "2                    0     0           0        0     0   \n",
       "3                    0     0           0        0     0   \n",
       "4                    0     0           0        0     0   \n",
       "\n",
       "   zesty italian dressing  zinfandel  ziti  zucchini  zucchini blossoms  \n",
       "0                       0          0     0         0                  0  \n",
       "1                       0          0     0         0                  0  \n",
       "2                       0          0     0         0                  0  \n",
       "3                       0          0     0         0                  0  \n",
       "4                       0          0     0         0                  0  \n",
       "\n",
       "[5 rows x 6716 columns]"
      ]
     },
     "execution_count": 84,
     "metadata": {},
     "output_type": "execute_result"
    },
    {
     "data": {
      "text/plain": [
       "(39774, 6716)"
      ]
     },
     "execution_count": 84,
     "metadata": {},
     "output_type": "execute_result"
    }
   ],
   "source": [
    "# Join Original and Dummfied\n",
    "df_original_left = df_original.iloc[:].reindex(['cuisine', 'id'], axis=1)\n",
    "df_original_dummified = df_original_left.join(dummies_original)\n",
    "\n",
    "df_original_dummified.head()\n",
    "df_original_dummified.shape"
   ]
  },
  {
   "cell_type": "code",
   "execution_count": 85,
   "metadata": {},
   "outputs": [
    {
     "data": {
      "text/html": [
       "<div>\n",
       "<style scoped>\n",
       "    .dataframe tbody tr th:only-of-type {\n",
       "        vertical-align: middle;\n",
       "    }\n",
       "\n",
       "    .dataframe tbody tr th {\n",
       "        vertical-align: top;\n",
       "    }\n",
       "\n",
       "    .dataframe thead th {\n",
       "        text-align: right;\n",
       "    }\n",
       "</style>\n",
       "<table border=\"1\" class=\"dataframe\">\n",
       "  <thead>\n",
       "    <tr style=\"text-align: right;\">\n",
       "      <th></th>\n",
       "      <th>cuisine</th>\n",
       "      <th>id</th>\n",
       "      <th>size_recipe</th>\n",
       "      <th>(    oz.) tomato sauce</th>\n",
       "      <th>(   oz.) tomato paste</th>\n",
       "      <th>(10 oz.) frozen chopped spinach</th>\n",
       "      <th>(10 oz.) frozen chopped spinach, thawed and squeezed dry</th>\n",
       "      <th>(14 oz.) sweetened condensed milk</th>\n",
       "      <th>(14.5 oz.) diced tomatoes</th>\n",
       "      <th>(15 oz.) refried beans</th>\n",
       "      <th>...</th>\n",
       "      <th>yukon gold potatoes</th>\n",
       "      <th>yuzu</th>\n",
       "      <th>yuzu juice</th>\n",
       "      <th>za'atar</th>\n",
       "      <th>zest</th>\n",
       "      <th>zesty italian dressing</th>\n",
       "      <th>zinfandel</th>\n",
       "      <th>ziti</th>\n",
       "      <th>zucchini</th>\n",
       "      <th>zucchini blossoms</th>\n",
       "    </tr>\n",
       "  </thead>\n",
       "  <tbody>\n",
       "    <tr>\n",
       "      <th>0</th>\n",
       "      <td>greek</td>\n",
       "      <td>10259</td>\n",
       "      <td>9</td>\n",
       "      <td>0</td>\n",
       "      <td>0</td>\n",
       "      <td>0</td>\n",
       "      <td>0</td>\n",
       "      <td>0</td>\n",
       "      <td>0</td>\n",
       "      <td>0</td>\n",
       "      <td>...</td>\n",
       "      <td>0</td>\n",
       "      <td>0</td>\n",
       "      <td>0</td>\n",
       "      <td>0</td>\n",
       "      <td>0</td>\n",
       "      <td>0</td>\n",
       "      <td>0</td>\n",
       "      <td>0</td>\n",
       "      <td>0</td>\n",
       "      <td>0</td>\n",
       "    </tr>\n",
       "    <tr>\n",
       "      <th>1</th>\n",
       "      <td>southern_us</td>\n",
       "      <td>25693</td>\n",
       "      <td>11</td>\n",
       "      <td>0</td>\n",
       "      <td>0</td>\n",
       "      <td>0</td>\n",
       "      <td>0</td>\n",
       "      <td>0</td>\n",
       "      <td>0</td>\n",
       "      <td>0</td>\n",
       "      <td>...</td>\n",
       "      <td>0</td>\n",
       "      <td>0</td>\n",
       "      <td>0</td>\n",
       "      <td>0</td>\n",
       "      <td>0</td>\n",
       "      <td>0</td>\n",
       "      <td>0</td>\n",
       "      <td>0</td>\n",
       "      <td>0</td>\n",
       "      <td>0</td>\n",
       "    </tr>\n",
       "    <tr>\n",
       "      <th>2</th>\n",
       "      <td>filipino</td>\n",
       "      <td>20130</td>\n",
       "      <td>12</td>\n",
       "      <td>0</td>\n",
       "      <td>0</td>\n",
       "      <td>0</td>\n",
       "      <td>0</td>\n",
       "      <td>0</td>\n",
       "      <td>0</td>\n",
       "      <td>0</td>\n",
       "      <td>...</td>\n",
       "      <td>0</td>\n",
       "      <td>0</td>\n",
       "      <td>0</td>\n",
       "      <td>0</td>\n",
       "      <td>0</td>\n",
       "      <td>0</td>\n",
       "      <td>0</td>\n",
       "      <td>0</td>\n",
       "      <td>0</td>\n",
       "      <td>0</td>\n",
       "    </tr>\n",
       "    <tr>\n",
       "      <th>3</th>\n",
       "      <td>indian</td>\n",
       "      <td>22213</td>\n",
       "      <td>4</td>\n",
       "      <td>0</td>\n",
       "      <td>0</td>\n",
       "      <td>0</td>\n",
       "      <td>0</td>\n",
       "      <td>0</td>\n",
       "      <td>0</td>\n",
       "      <td>0</td>\n",
       "      <td>...</td>\n",
       "      <td>0</td>\n",
       "      <td>0</td>\n",
       "      <td>0</td>\n",
       "      <td>0</td>\n",
       "      <td>0</td>\n",
       "      <td>0</td>\n",
       "      <td>0</td>\n",
       "      <td>0</td>\n",
       "      <td>0</td>\n",
       "      <td>0</td>\n",
       "    </tr>\n",
       "    <tr>\n",
       "      <th>4</th>\n",
       "      <td>indian</td>\n",
       "      <td>13162</td>\n",
       "      <td>20</td>\n",
       "      <td>0</td>\n",
       "      <td>0</td>\n",
       "      <td>0</td>\n",
       "      <td>0</td>\n",
       "      <td>0</td>\n",
       "      <td>0</td>\n",
       "      <td>0</td>\n",
       "      <td>...</td>\n",
       "      <td>0</td>\n",
       "      <td>0</td>\n",
       "      <td>0</td>\n",
       "      <td>0</td>\n",
       "      <td>0</td>\n",
       "      <td>0</td>\n",
       "      <td>0</td>\n",
       "      <td>0</td>\n",
       "      <td>0</td>\n",
       "      <td>0</td>\n",
       "    </tr>\n",
       "  </tbody>\n",
       "</table>\n",
       "<p>5 rows × 6717 columns</p>\n",
       "</div>"
      ],
      "text/plain": [
       "       cuisine     id  size_recipe  (    oz.) tomato sauce  \\\n",
       "0        greek  10259            9                       0   \n",
       "1  southern_us  25693           11                       0   \n",
       "2     filipino  20130           12                       0   \n",
       "3       indian  22213            4                       0   \n",
       "4       indian  13162           20                       0   \n",
       "\n",
       "   (   oz.) tomato paste  (10 oz.) frozen chopped spinach  \\\n",
       "0                      0                                0   \n",
       "1                      0                                0   \n",
       "2                      0                                0   \n",
       "3                      0                                0   \n",
       "4                      0                                0   \n",
       "\n",
       "   (10 oz.) frozen chopped spinach, thawed and squeezed dry  \\\n",
       "0                                                  0          \n",
       "1                                                  0          \n",
       "2                                                  0          \n",
       "3                                                  0          \n",
       "4                                                  0          \n",
       "\n",
       "   (14 oz.) sweetened condensed milk  (14.5 oz.) diced tomatoes  \\\n",
       "0                                  0                          0   \n",
       "1                                  0                          0   \n",
       "2                                  0                          0   \n",
       "3                                  0                          0   \n",
       "4                                  0                          0   \n",
       "\n",
       "   (15 oz.) refried beans        ...          yukon gold potatoes  yuzu  \\\n",
       "0                       0        ...                            0     0   \n",
       "1                       0        ...                            0     0   \n",
       "2                       0        ...                            0     0   \n",
       "3                       0        ...                            0     0   \n",
       "4                       0        ...                            0     0   \n",
       "\n",
       "   yuzu juice  za'atar  zest  zesty italian dressing  zinfandel  ziti  \\\n",
       "0           0        0     0                       0          0     0   \n",
       "1           0        0     0                       0          0     0   \n",
       "2           0        0     0                       0          0     0   \n",
       "3           0        0     0                       0          0     0   \n",
       "4           0        0     0                       0          0     0   \n",
       "\n",
       "   zucchini  zucchini blossoms  \n",
       "0         0                  0  \n",
       "1         0                  0  \n",
       "2         0                  0  \n",
       "3         0                  0  \n",
       "4         0                  0  \n",
       "\n",
       "[5 rows x 6717 columns]"
      ]
     },
     "execution_count": 85,
     "metadata": {},
     "output_type": "execute_result"
    },
    {
     "data": {
      "text/plain": [
       "(39774, 6717)"
      ]
     },
     "execution_count": 85,
     "metadata": {},
     "output_type": "execute_result"
    }
   ],
   "source": [
    "# Create a variable for recipe size \n",
    "df_original_dummified.insert(2, 'size_recipe', df_original_dummified.iloc[:, 2:].sum(axis=1))\n",
    "\n",
    "df_original_dummified.head()\n",
    "df_original_dummified.shape"
   ]
  },
  {
   "cell_type": "markdown",
   "metadata": {},
   "source": [
    "# Divide dataset intro train and test sets\n",
    "\n",
    "Usually the data partition is done in the train/test phase of the process but because the this is a classification problem and the data must be dummified in order to run the models, it is easier to do so in the beginning of the process so it is easier to get the number of attributes of the train set to match the test set after the feature selection process."
   ]
  },
  {
   "cell_type": "code",
   "execution_count": 86,
   "metadata": {},
   "outputs": [
    {
     "name": "stdout",
     "output_type": "stream",
     "text": [
      "train_set = 31819 and test_set = 7955\n"
     ]
    }
   ],
   "source": [
    "# Partition the data in train and test sets\n",
    "from sklearn.model_selection import train_test_split\n",
    "\n",
    "train_set, test_set = train_test_split(df_original_dummified, test_size=0.2, random_state=123) #random_state = set.seed\n",
    "\n",
    "print(\"train_set = \" + str(len(train_set)) + \" and test_set = \" + str(len(test_set)))"
   ]
  },
  {
   "cell_type": "markdown",
   "metadata": {},
   "source": [
    "### Creates the TRAIN dataset"
   ]
  },
  {
   "cell_type": "code",
   "execution_count": 87,
   "metadata": {},
   "outputs": [
    {
     "data": {
      "text/html": [
       "<div>\n",
       "<style scoped>\n",
       "    .dataframe tbody tr th:only-of-type {\n",
       "        vertical-align: middle;\n",
       "    }\n",
       "\n",
       "    .dataframe tbody tr th {\n",
       "        vertical-align: top;\n",
       "    }\n",
       "\n",
       "    .dataframe thead th {\n",
       "        text-align: right;\n",
       "    }\n",
       "</style>\n",
       "<table border=\"1\" class=\"dataframe\">\n",
       "  <thead>\n",
       "    <tr style=\"text-align: right;\">\n",
       "      <th></th>\n",
       "      <th>cuisine</th>\n",
       "      <th>id</th>\n",
       "      <th>size_recipe</th>\n",
       "      <th>(    oz.) tomato sauce</th>\n",
       "      <th>(   oz.) tomato paste</th>\n",
       "      <th>(10 oz.) frozen chopped spinach</th>\n",
       "      <th>(10 oz.) frozen chopped spinach, thawed and squeezed dry</th>\n",
       "      <th>(14 oz.) sweetened condensed milk</th>\n",
       "      <th>(14.5 oz.) diced tomatoes</th>\n",
       "      <th>(15 oz.) refried beans</th>\n",
       "      <th>...</th>\n",
       "      <th>yukon gold potatoes</th>\n",
       "      <th>yuzu</th>\n",
       "      <th>yuzu juice</th>\n",
       "      <th>za'atar</th>\n",
       "      <th>zest</th>\n",
       "      <th>zesty italian dressing</th>\n",
       "      <th>zinfandel</th>\n",
       "      <th>ziti</th>\n",
       "      <th>zucchini</th>\n",
       "      <th>zucchini blossoms</th>\n",
       "    </tr>\n",
       "  </thead>\n",
       "  <tbody>\n",
       "    <tr>\n",
       "      <th>0</th>\n",
       "      <td>chinese</td>\n",
       "      <td>45548</td>\n",
       "      <td>25</td>\n",
       "      <td>0</td>\n",
       "      <td>0</td>\n",
       "      <td>0</td>\n",
       "      <td>0</td>\n",
       "      <td>0</td>\n",
       "      <td>0</td>\n",
       "      <td>0</td>\n",
       "      <td>...</td>\n",
       "      <td>0</td>\n",
       "      <td>0</td>\n",
       "      <td>0</td>\n",
       "      <td>0</td>\n",
       "      <td>0</td>\n",
       "      <td>0</td>\n",
       "      <td>0</td>\n",
       "      <td>0</td>\n",
       "      <td>1</td>\n",
       "      <td>0</td>\n",
       "    </tr>\n",
       "    <tr>\n",
       "      <th>1</th>\n",
       "      <td>mexican</td>\n",
       "      <td>8172</td>\n",
       "      <td>11</td>\n",
       "      <td>0</td>\n",
       "      <td>0</td>\n",
       "      <td>0</td>\n",
       "      <td>0</td>\n",
       "      <td>0</td>\n",
       "      <td>0</td>\n",
       "      <td>0</td>\n",
       "      <td>...</td>\n",
       "      <td>0</td>\n",
       "      <td>0</td>\n",
       "      <td>0</td>\n",
       "      <td>0</td>\n",
       "      <td>0</td>\n",
       "      <td>0</td>\n",
       "      <td>0</td>\n",
       "      <td>0</td>\n",
       "      <td>0</td>\n",
       "      <td>0</td>\n",
       "    </tr>\n",
       "    <tr>\n",
       "      <th>2</th>\n",
       "      <td>italian</td>\n",
       "      <td>24224</td>\n",
       "      <td>14</td>\n",
       "      <td>0</td>\n",
       "      <td>0</td>\n",
       "      <td>0</td>\n",
       "      <td>0</td>\n",
       "      <td>0</td>\n",
       "      <td>0</td>\n",
       "      <td>0</td>\n",
       "      <td>...</td>\n",
       "      <td>0</td>\n",
       "      <td>0</td>\n",
       "      <td>0</td>\n",
       "      <td>0</td>\n",
       "      <td>0</td>\n",
       "      <td>0</td>\n",
       "      <td>0</td>\n",
       "      <td>0</td>\n",
       "      <td>1</td>\n",
       "      <td>0</td>\n",
       "    </tr>\n",
       "    <tr>\n",
       "      <th>3</th>\n",
       "      <td>thai</td>\n",
       "      <td>3640</td>\n",
       "      <td>9</td>\n",
       "      <td>0</td>\n",
       "      <td>0</td>\n",
       "      <td>0</td>\n",
       "      <td>0</td>\n",
       "      <td>0</td>\n",
       "      <td>0</td>\n",
       "      <td>0</td>\n",
       "      <td>...</td>\n",
       "      <td>0</td>\n",
       "      <td>0</td>\n",
       "      <td>0</td>\n",
       "      <td>0</td>\n",
       "      <td>0</td>\n",
       "      <td>0</td>\n",
       "      <td>0</td>\n",
       "      <td>0</td>\n",
       "      <td>0</td>\n",
       "      <td>0</td>\n",
       "    </tr>\n",
       "    <tr>\n",
       "      <th>4</th>\n",
       "      <td>mexican</td>\n",
       "      <td>13754</td>\n",
       "      <td>17</td>\n",
       "      <td>0</td>\n",
       "      <td>0</td>\n",
       "      <td>0</td>\n",
       "      <td>0</td>\n",
       "      <td>0</td>\n",
       "      <td>0</td>\n",
       "      <td>0</td>\n",
       "      <td>...</td>\n",
       "      <td>0</td>\n",
       "      <td>0</td>\n",
       "      <td>0</td>\n",
       "      <td>0</td>\n",
       "      <td>0</td>\n",
       "      <td>0</td>\n",
       "      <td>0</td>\n",
       "      <td>0</td>\n",
       "      <td>0</td>\n",
       "      <td>0</td>\n",
       "    </tr>\n",
       "  </tbody>\n",
       "</table>\n",
       "<p>5 rows × 6717 columns</p>\n",
       "</div>"
      ],
      "text/plain": [
       "   cuisine     id  size_recipe  (    oz.) tomato sauce  (   oz.) tomato paste  \\\n",
       "0  chinese  45548           25                       0                      0   \n",
       "1  mexican   8172           11                       0                      0   \n",
       "2  italian  24224           14                       0                      0   \n",
       "3     thai   3640            9                       0                      0   \n",
       "4  mexican  13754           17                       0                      0   \n",
       "\n",
       "   (10 oz.) frozen chopped spinach  \\\n",
       "0                                0   \n",
       "1                                0   \n",
       "2                                0   \n",
       "3                                0   \n",
       "4                                0   \n",
       "\n",
       "   (10 oz.) frozen chopped spinach, thawed and squeezed dry  \\\n",
       "0                                                  0          \n",
       "1                                                  0          \n",
       "2                                                  0          \n",
       "3                                                  0          \n",
       "4                                                  0          \n",
       "\n",
       "   (14 oz.) sweetened condensed milk  (14.5 oz.) diced tomatoes  \\\n",
       "0                                  0                          0   \n",
       "1                                  0                          0   \n",
       "2                                  0                          0   \n",
       "3                                  0                          0   \n",
       "4                                  0                          0   \n",
       "\n",
       "   (15 oz.) refried beans        ...          yukon gold potatoes  yuzu  \\\n",
       "0                       0        ...                            0     0   \n",
       "1                       0        ...                            0     0   \n",
       "2                       0        ...                            0     0   \n",
       "3                       0        ...                            0     0   \n",
       "4                       0        ...                            0     0   \n",
       "\n",
       "   yuzu juice  za'atar  zest  zesty italian dressing  zinfandel  ziti  \\\n",
       "0           0        0     0                       0          0     0   \n",
       "1           0        0     0                       0          0     0   \n",
       "2           0        0     0                       0          0     0   \n",
       "3           0        0     0                       0          0     0   \n",
       "4           0        0     0                       0          0     0   \n",
       "\n",
       "   zucchini  zucchini blossoms  \n",
       "0         1                  0  \n",
       "1         0                  0  \n",
       "2         1                  0  \n",
       "3         0                  0  \n",
       "4         0                  0  \n",
       "\n",
       "[5 rows x 6717 columns]"
      ]
     },
     "execution_count": 87,
     "metadata": {},
     "output_type": "execute_result"
    },
    {
     "data": {
      "text/plain": [
       "(31819, 6717)"
      ]
     },
     "execution_count": 87,
     "metadata": {},
     "output_type": "execute_result"
    }
   ],
   "source": [
    "#Saves train_set index in case it is needed in the future\n",
    "train_set_idx = train_set.index\n",
    "\n",
    "# Assigns TRAIN DATASET\n",
    "df_TRAIN_original = df_original_dummified.copy()\n",
    "df_TRAIN_original = df_TRAIN_original.loc[train_set_idx].reset_index(drop=True)\n",
    "\n",
    "df_TRAIN_original.head()\n",
    "df_TRAIN_original.shape"
   ]
  },
  {
   "cell_type": "markdown",
   "metadata": {},
   "source": [
    "### Creates the TEST dateset"
   ]
  },
  {
   "cell_type": "code",
   "execution_count": 88,
   "metadata": {},
   "outputs": [
    {
     "data": {
      "text/html": [
       "<div>\n",
       "<style scoped>\n",
       "    .dataframe tbody tr th:only-of-type {\n",
       "        vertical-align: middle;\n",
       "    }\n",
       "\n",
       "    .dataframe tbody tr th {\n",
       "        vertical-align: top;\n",
       "    }\n",
       "\n",
       "    .dataframe thead th {\n",
       "        text-align: right;\n",
       "    }\n",
       "</style>\n",
       "<table border=\"1\" class=\"dataframe\">\n",
       "  <thead>\n",
       "    <tr style=\"text-align: right;\">\n",
       "      <th></th>\n",
       "      <th>cuisine</th>\n",
       "      <th>id</th>\n",
       "      <th>size_recipe</th>\n",
       "      <th>(    oz.) tomato sauce</th>\n",
       "      <th>(   oz.) tomato paste</th>\n",
       "      <th>(10 oz.) frozen chopped spinach</th>\n",
       "      <th>(10 oz.) frozen chopped spinach, thawed and squeezed dry</th>\n",
       "      <th>(14 oz.) sweetened condensed milk</th>\n",
       "      <th>(14.5 oz.) diced tomatoes</th>\n",
       "      <th>(15 oz.) refried beans</th>\n",
       "      <th>...</th>\n",
       "      <th>yukon gold potatoes</th>\n",
       "      <th>yuzu</th>\n",
       "      <th>yuzu juice</th>\n",
       "      <th>za'atar</th>\n",
       "      <th>zest</th>\n",
       "      <th>zesty italian dressing</th>\n",
       "      <th>zinfandel</th>\n",
       "      <th>ziti</th>\n",
       "      <th>zucchini</th>\n",
       "      <th>zucchini blossoms</th>\n",
       "    </tr>\n",
       "  </thead>\n",
       "  <tbody>\n",
       "    <tr>\n",
       "      <th>0</th>\n",
       "      <td>southern_us</td>\n",
       "      <td>21672</td>\n",
       "      <td>9</td>\n",
       "      <td>0</td>\n",
       "      <td>0</td>\n",
       "      <td>0</td>\n",
       "      <td>0</td>\n",
       "      <td>0</td>\n",
       "      <td>0</td>\n",
       "      <td>0</td>\n",
       "      <td>...</td>\n",
       "      <td>0</td>\n",
       "      <td>0</td>\n",
       "      <td>0</td>\n",
       "      <td>0</td>\n",
       "      <td>0</td>\n",
       "      <td>0</td>\n",
       "      <td>0</td>\n",
       "      <td>0</td>\n",
       "      <td>0</td>\n",
       "      <td>0</td>\n",
       "    </tr>\n",
       "    <tr>\n",
       "      <th>1</th>\n",
       "      <td>southern_us</td>\n",
       "      <td>25355</td>\n",
       "      <td>8</td>\n",
       "      <td>0</td>\n",
       "      <td>0</td>\n",
       "      <td>0</td>\n",
       "      <td>0</td>\n",
       "      <td>0</td>\n",
       "      <td>0</td>\n",
       "      <td>0</td>\n",
       "      <td>...</td>\n",
       "      <td>0</td>\n",
       "      <td>0</td>\n",
       "      <td>0</td>\n",
       "      <td>0</td>\n",
       "      <td>0</td>\n",
       "      <td>0</td>\n",
       "      <td>0</td>\n",
       "      <td>0</td>\n",
       "      <td>0</td>\n",
       "      <td>0</td>\n",
       "    </tr>\n",
       "    <tr>\n",
       "      <th>2</th>\n",
       "      <td>french</td>\n",
       "      <td>302</td>\n",
       "      <td>4</td>\n",
       "      <td>0</td>\n",
       "      <td>0</td>\n",
       "      <td>0</td>\n",
       "      <td>0</td>\n",
       "      <td>0</td>\n",
       "      <td>0</td>\n",
       "      <td>0</td>\n",
       "      <td>...</td>\n",
       "      <td>0</td>\n",
       "      <td>0</td>\n",
       "      <td>0</td>\n",
       "      <td>0</td>\n",
       "      <td>0</td>\n",
       "      <td>0</td>\n",
       "      <td>0</td>\n",
       "      <td>0</td>\n",
       "      <td>0</td>\n",
       "      <td>0</td>\n",
       "    </tr>\n",
       "    <tr>\n",
       "      <th>3</th>\n",
       "      <td>southern_us</td>\n",
       "      <td>43816</td>\n",
       "      <td>6</td>\n",
       "      <td>0</td>\n",
       "      <td>0</td>\n",
       "      <td>0</td>\n",
       "      <td>0</td>\n",
       "      <td>0</td>\n",
       "      <td>0</td>\n",
       "      <td>0</td>\n",
       "      <td>...</td>\n",
       "      <td>0</td>\n",
       "      <td>0</td>\n",
       "      <td>0</td>\n",
       "      <td>0</td>\n",
       "      <td>0</td>\n",
       "      <td>0</td>\n",
       "      <td>0</td>\n",
       "      <td>0</td>\n",
       "      <td>0</td>\n",
       "      <td>0</td>\n",
       "    </tr>\n",
       "    <tr>\n",
       "      <th>4</th>\n",
       "      <td>italian</td>\n",
       "      <td>32357</td>\n",
       "      <td>4</td>\n",
       "      <td>0</td>\n",
       "      <td>0</td>\n",
       "      <td>0</td>\n",
       "      <td>0</td>\n",
       "      <td>0</td>\n",
       "      <td>0</td>\n",
       "      <td>0</td>\n",
       "      <td>...</td>\n",
       "      <td>0</td>\n",
       "      <td>0</td>\n",
       "      <td>0</td>\n",
       "      <td>0</td>\n",
       "      <td>0</td>\n",
       "      <td>0</td>\n",
       "      <td>0</td>\n",
       "      <td>0</td>\n",
       "      <td>0</td>\n",
       "      <td>0</td>\n",
       "    </tr>\n",
       "  </tbody>\n",
       "</table>\n",
       "<p>5 rows × 6717 columns</p>\n",
       "</div>"
      ],
      "text/plain": [
       "       cuisine     id  size_recipe  (    oz.) tomato sauce  \\\n",
       "0  southern_us  21672            9                       0   \n",
       "1  southern_us  25355            8                       0   \n",
       "2       french    302            4                       0   \n",
       "3  southern_us  43816            6                       0   \n",
       "4      italian  32357            4                       0   \n",
       "\n",
       "   (   oz.) tomato paste  (10 oz.) frozen chopped spinach  \\\n",
       "0                      0                                0   \n",
       "1                      0                                0   \n",
       "2                      0                                0   \n",
       "3                      0                                0   \n",
       "4                      0                                0   \n",
       "\n",
       "   (10 oz.) frozen chopped spinach, thawed and squeezed dry  \\\n",
       "0                                                  0          \n",
       "1                                                  0          \n",
       "2                                                  0          \n",
       "3                                                  0          \n",
       "4                                                  0          \n",
       "\n",
       "   (14 oz.) sweetened condensed milk  (14.5 oz.) diced tomatoes  \\\n",
       "0                                  0                          0   \n",
       "1                                  0                          0   \n",
       "2                                  0                          0   \n",
       "3                                  0                          0   \n",
       "4                                  0                          0   \n",
       "\n",
       "   (15 oz.) refried beans        ...          yukon gold potatoes  yuzu  \\\n",
       "0                       0        ...                            0     0   \n",
       "1                       0        ...                            0     0   \n",
       "2                       0        ...                            0     0   \n",
       "3                       0        ...                            0     0   \n",
       "4                       0        ...                            0     0   \n",
       "\n",
       "   yuzu juice  za'atar  zest  zesty italian dressing  zinfandel  ziti  \\\n",
       "0           0        0     0                       0          0     0   \n",
       "1           0        0     0                       0          0     0   \n",
       "2           0        0     0                       0          0     0   \n",
       "3           0        0     0                       0          0     0   \n",
       "4           0        0     0                       0          0     0   \n",
       "\n",
       "   zucchini  zucchini blossoms  \n",
       "0         0                  0  \n",
       "1         0                  0  \n",
       "2         0                  0  \n",
       "3         0                  0  \n",
       "4         0                  0  \n",
       "\n",
       "[5 rows x 6717 columns]"
      ]
     },
     "execution_count": 88,
     "metadata": {},
     "output_type": "execute_result"
    },
    {
     "data": {
      "text/plain": [
       "(7955, 6717)"
      ]
     },
     "execution_count": 88,
     "metadata": {},
     "output_type": "execute_result"
    }
   ],
   "source": [
    "#Saves test_set index in case it is needed in the future\n",
    "test_set_idx = test_set.index\n",
    "\n",
    "# Assigns TRAIN DATASET\n",
    "df_TEST_original = df_original_dummified.copy()\n",
    "df_TEST_original = df_TEST_original.loc[test_set_idx].reset_index(drop=True)\n",
    "\n",
    "df_TEST_original.head()\n",
    "df_TEST_original.shape"
   ]
  },
  {
   "cell_type": "markdown",
   "metadata": {},
   "source": [
    "### Creates a DataFrame in the original format for train set to be manipulated"
   ]
  },
  {
   "cell_type": "code",
   "execution_count": 89,
   "metadata": {},
   "outputs": [
    {
     "data": {
      "text/html": [
       "<div>\n",
       "<style scoped>\n",
       "    .dataframe tbody tr th:only-of-type {\n",
       "        vertical-align: middle;\n",
       "    }\n",
       "\n",
       "    .dataframe tbody tr th {\n",
       "        vertical-align: top;\n",
       "    }\n",
       "\n",
       "    .dataframe thead th {\n",
       "        text-align: right;\n",
       "    }\n",
       "</style>\n",
       "<table border=\"1\" class=\"dataframe\">\n",
       "  <thead>\n",
       "    <tr style=\"text-align: right;\">\n",
       "      <th></th>\n",
       "      <th>cuisine</th>\n",
       "      <th>id</th>\n",
       "      <th>size_recipe</th>\n",
       "      <th>ingredients</th>\n",
       "    </tr>\n",
       "  </thead>\n",
       "  <tbody>\n",
       "    <tr>\n",
       "      <th>0</th>\n",
       "      <td>chinese</td>\n",
       "      <td>45548</td>\n",
       "      <td>25</td>\n",
       "      <td>[seasoning, meat marinade, pork tenderloin, se...</td>\n",
       "    </tr>\n",
       "    <tr>\n",
       "      <th>1</th>\n",
       "      <td>mexican</td>\n",
       "      <td>8172</td>\n",
       "      <td>11</td>\n",
       "      <td>[eggs, cream style corn, enchilada sauce, shre...</td>\n",
       "    </tr>\n",
       "    <tr>\n",
       "      <th>2</th>\n",
       "      <td>italian</td>\n",
       "      <td>24224</td>\n",
       "      <td>14</td>\n",
       "      <td>[frozen chopped spinach, ground black pepper, ...</td>\n",
       "    </tr>\n",
       "    <tr>\n",
       "      <th>3</th>\n",
       "      <td>thai</td>\n",
       "      <td>3640</td>\n",
       "      <td>9</td>\n",
       "      <td>[coconut sugar, Thai red curry paste, coconut ...</td>\n",
       "    </tr>\n",
       "    <tr>\n",
       "      <th>4</th>\n",
       "      <td>mexican</td>\n",
       "      <td>13754</td>\n",
       "      <td>17</td>\n",
       "      <td>[frozen orange juice concentrate, olive oil, r...</td>\n",
       "    </tr>\n",
       "  </tbody>\n",
       "</table>\n",
       "</div>"
      ],
      "text/plain": [
       "   cuisine     id  size_recipe  \\\n",
       "0  chinese  45548           25   \n",
       "1  mexican   8172           11   \n",
       "2  italian  24224           14   \n",
       "3     thai   3640            9   \n",
       "4  mexican  13754           17   \n",
       "\n",
       "                                         ingredients  \n",
       "0  [seasoning, meat marinade, pork tenderloin, se...  \n",
       "1  [eggs, cream style corn, enchilada sauce, shre...  \n",
       "2  [frozen chopped spinach, ground black pepper, ...  \n",
       "3  [coconut sugar, Thai red curry paste, coconut ...  \n",
       "4  [frozen orange juice concentrate, olive oil, r...  "
      ]
     },
     "execution_count": 89,
     "metadata": {},
     "output_type": "execute_result"
    },
    {
     "data": {
      "text/plain": [
       "(31819, 4)"
      ]
     },
     "execution_count": 89,
     "metadata": {},
     "output_type": "execute_result"
    }
   ],
   "source": [
    "#df_original_dummified.insert(2, 'size_recipe', df_original_dummified.iloc[:, 2:].sum(axis=1))\n",
    "df_train_original = df_original.loc[train_set_idx].reset_index(drop=True)\n",
    "\n",
    "if (df_train_original.columns).contains('size_recipe'):\n",
    "    df_train_original.head()\n",
    "    df_train_original.shape\n",
    "else:\n",
    "    df_train_original.insert(2, 'size_recipe', df_train_original['ingredients'].apply(len))\n",
    "    df_train_original.head()\n",
    "    df_train_original.shape"
   ]
  },
  {
   "cell_type": "markdown",
   "metadata": {},
   "source": [
    "## Update all variables shown in `DataPresentation.ipynb` to Train set size\n",
    "\n",
    "### Number of recipes per cuisine"
   ]
  },
  {
   "cell_type": "code",
   "execution_count": 90,
   "metadata": {},
   "outputs": [
    {
     "data": {
      "text/plain": [
       "italian         6337\n",
       "mexican         5129\n",
       "southern_us     3446\n",
       "indian          2406\n",
       "chinese         2155\n",
       "french          2079\n",
       "cajun_creole    1233\n",
       "thai            1223\n",
       "japanese        1130\n",
       "greek            953\n",
       "spanish          799\n",
       "vietnamese       666\n",
       "moroccan         651\n",
       "british          647\n",
       "korean           643\n",
       "filipino         597\n",
       "irish            536\n",
       "jamaican         425\n",
       "russian          387\n",
       "brazilian        377\n",
       "Name: cuisine, dtype: int64"
      ]
     },
     "execution_count": 90,
     "metadata": {},
     "output_type": "execute_result"
    },
    {
     "name": "stdout",
     "output_type": "stream",
     "text": [
      "There are a total of 31819 recipes and 20 cuisines\n"
     ]
    }
   ],
   "source": [
    "# Number of recipes per cuisine\n",
    "number_recipe_cuisine = df_train_original['cuisine'].value_counts()\n",
    "number_recipe_cuisine\n",
    "\n",
    "print('There are a total of ' + str(number_recipe_cuisine.sum()) + ' recipes and ' + str(len(number_recipe_cuisine)) + ' cuisines')"
   ]
  },
  {
   "cell_type": "markdown",
   "metadata": {},
   "source": [
    "### Most occurring ingredients"
   ]
  },
  {
   "cell_type": "code",
   "execution_count": 91,
   "metadata": {},
   "outputs": [
    {
     "data": {
      "text/plain": [
       "salt                   14436\n",
       "olive oil               6391\n",
       "onions                  6373\n",
       "water                   5983\n",
       "garlic                  5895\n",
       "sugar                   5101\n",
       "garlic cloves           4998\n",
       "butter                  3834\n",
       "ground black pepper     3823\n",
       "all-purpose flour       3663\n",
       "dtype: int64"
      ]
     },
     "execution_count": 91,
     "metadata": {},
     "output_type": "execute_result"
    },
    {
     "name": "stdout",
     "output_type": "stream",
     "text": [
      "There are 6289 unique ingredients.\n"
     ]
    }
   ],
   "source": [
    "# Top 10 most occurring ingredients\n",
    "from Methods import get_ingredients\n",
    "  \n",
    "all_ingredients = get_ingredients(df_train_original)\n",
    "all_ingredients.value_counts()[:10]\n",
    "\n",
    "\n",
    "#Number of unique ingredients\n",
    "print('There are ' + str(len(set(all_ingredients))) + ' unique ingredients.')"
   ]
  },
  {
   "cell_type": "markdown",
   "metadata": {},
   "source": [
    "### Groups ingredients by cuisine"
   ]
  },
  {
   "cell_type": "code",
   "execution_count": 92,
   "metadata": {},
   "outputs": [
    {
     "data": {
      "text/plain": [
       "cuisine\n",
       "brazilian       [papaya, hemp seeds, raspberries, bananas, chi...\n",
       "british         [bread crumbs, dried sage, pork butt, ground b...\n",
       "cajun_creole    [boneless skinless chicken breasts, garlic, ro...\n",
       "chinese         [seasoning, meat marinade, pork tenderloin, se...\n",
       "filipino        [condensed milk, crushed ice, berries, small p...\n",
       "french          [chopped fresh chives, garlic cloves, unsalted...\n",
       "greek           [olive oil, lemon juice, fresh dill, garlic, g...\n",
       "indian          [curry powder, chopped onion, red potato, garb...\n",
       "irish           [tomato paste, beef brisket, dill, brown sugar...\n",
       "italian         [frozen chopped spinach, ground black pepper, ...\n",
       "jamaican        [red chili peppers, garlic cloves, ground cinn...\n",
       "japanese        [sugar, green onions, thai chile, dried shiita...\n",
       "korean          [sesame seeds, garlic, sirloin, green onions, ...\n",
       "mexican         [eggs, cream style corn, enchilada sauce, shre...\n",
       "moroccan        [water, yellow onion, serrano chile, black pep...\n",
       "russian         [sugar, egg yolks, unsalted butter, cream chee...\n",
       "southern_us     [green bell pepper, vegetable oil, onions, sca...\n",
       "spanish         [sea salt, olive oil, bell pepper, mussels, wh...\n",
       "thai            [coconut sugar, Thai red curry paste, coconut ...\n",
       "vietnamese      [cold water, daikon, scallions, chopped cilant...\n",
       "Name: ingredients, dtype: object"
      ]
     },
     "execution_count": 92,
     "metadata": {},
     "output_type": "execute_result"
    }
   ],
   "source": [
    "# Group all ingredients by cuisine\n",
    "all_ingredients_cuisine = df_train_original.groupby('cuisine')['ingredients'].sum()\n",
    "\n",
    "all_ingredients_cuisine"
   ]
  },
  {
   "cell_type": "markdown",
   "metadata": {},
   "source": [
    "### Count how many times each ingredient appears in all recipes of a cuisine"
   ]
  },
  {
   "cell_type": "code",
   "execution_count": 93,
   "metadata": {},
   "outputs": [
    {
     "data": {
      "text/plain": [
       "cuisine\n",
       "brazilian       {'salt': 155, 'onions': 103, 'olive oil': 98, ...\n",
       "british         {'salt': 330, 'all-purpose flour': 193, 'butte...\n",
       "cajun_creole    {'salt': 591, 'onions': 428, 'garlic': 301, 'g...\n",
       "chinese         {'soy sauce': 1104, 'sesame oil': 757, 'corn s...\n",
       "filipino        {'salt': 328, 'garlic': 257, 'water': 247, 'on...\n",
       "french          {'salt': 952, 'sugar': 489, 'unsalted butter':...\n",
       "greek           {'salt': 457, 'olive oil': 414, 'dried oregano...\n",
       "indian          {'salt': 1547, 'onions': 966, 'garam masala': ...\n",
       "irish           {'salt': 307, 'all-purpose flour': 177, 'butte...\n",
       "italian         {'salt': 2796, 'olive oil': 2521, 'garlic clov...\n",
       "jamaican        {'salt': 279, 'onions': 146, 'water': 125, 'ga...\n",
       "japanese        {'soy sauce': 433, 'salt': 336, 'sugar': 304, ...\n",
       "korean          {'soy sauce': 326, 'sesame oil': 309, 'garlic'...\n",
       "mexican         {'salt': 2145, 'onions': 1171, 'ground cumin':...\n",
       "moroccan        {'salt': 329, 'olive oil': 321, 'ground cumin'...\n",
       "russian         {'salt': 233, 'sugar': 126, 'onions': 121, 'al...\n",
       "southern_us     {'salt': 1840, 'butter': 993, 'all-purpose flo...\n",
       "spanish         {'salt': 369, 'olive oil': 316, 'garlic cloves...\n",
       "thai            {'fish sauce': 495, 'garlic': 332, 'salt': 299...\n",
       "vietnamese      {'fish sauce': 318, 'sugar': 267, 'salt': 212,...\n",
       "Name: ingredients, dtype: object"
      ]
     },
     "execution_count": 93,
     "metadata": {},
     "output_type": "execute_result"
    }
   ],
   "source": [
    "from Methods import count_occ\n",
    "\n",
    "all_ingredient_by_cuisine_count = all_ingredients_cuisine.apply(count_occ)\n",
    "\n",
    "all_ingredient_by_cuisine_count"
   ]
  },
  {
   "cell_type": "markdown",
   "metadata": {},
   "source": [
    "### Unique ingredients by cuisine"
   ]
  },
  {
   "cell_type": "code",
   "execution_count": 94,
   "metadata": {},
   "outputs": [
    {
     "data": {
      "text/plain": [
       "cuisine\n",
       "brazilian       [rotisserie chicken, mustard, key lime, whole ...\n",
       "british         [mustard, pie crust, pickling salt, whole milk...\n",
       "cajun_creole    [shredded parmesan cheese, rotisserie chicken,...\n",
       "chinese         [rotisserie chicken, sweet and sour sauce, sob...\n",
       "filipino        [pie crust, whole milk, chicken breasts, guava...\n",
       "french          [shredded parmesan cheese, pie crust, dark mus...\n",
       "greek           [rotisserie chicken, whole milk, chicken breas...\n",
       "indian          [rotisserie chicken, pie crust, lamb neck, app...\n",
       "irish           [mustard, pie crust, whole milk, dark muscovad...\n",
       "italian         [shredded parmesan cheese, rotisserie chicken,...\n",
       "jamaican        [sweet and sour sauce, codfish, chicken breast...\n",
       "japanese        [mustard, whole milk, boneless center cut pork...\n",
       "korean          [stir fry beef meat, pickling salt, soba, chic...\n",
       "mexican         [rotisserie chicken, shredded parmesan cheese,...\n",
       "moroccan        [rotisserie chicken, whole milk, veal demi-gla...\n",
       "russian         [mustard, whole milk, candy sprinkles, chicken...\n",
       "southern_us     [shredded parmesan cheese, rotisserie chicken,...\n",
       "spanish         [rotisserie chicken, mustard, jalape, whole mi...\n",
       "thai            [rotisserie chicken, mustard, jalape, whole mi...\n",
       "vietnamese      [rotisserie chicken, sweet and sour sauce, pic...\n",
       "Name: ingredients, dtype: object"
      ]
     },
     "execution_count": 94,
     "metadata": {},
     "output_type": "execute_result"
    }
   ],
   "source": [
    "# Get unique ingredients by cuisine\n",
    "from Methods import remove_duplicates\n",
    "\n",
    "unique_ingredients_cuisine = all_ingredients_cuisine.apply(remove_duplicates)\n",
    "\n",
    "unique_ingredients_cuisine"
   ]
  },
  {
   "cell_type": "markdown",
   "metadata": {},
   "source": [
    "### Number of unique ingredients used in each cuisine"
   ]
  },
  {
   "cell_type": "code",
   "execution_count": 95,
   "metadata": {},
   "outputs": [
    {
     "data": {
      "text/plain": [
       "cuisine\n",
       "italian         2735\n",
       "mexican         2464\n",
       "southern_us     2263\n",
       "french          1932\n",
       "chinese         1634\n",
       "indian          1539\n",
       "cajun_creole    1430\n",
       "japanese        1305\n",
       "thai            1255\n",
       "spanish         1139\n",
       "greek           1108\n",
       "british         1056\n",
       "vietnamese      1023\n",
       "moroccan         894\n",
       "irish            870\n",
       "filipino         853\n",
       "korean           799\n",
       "brazilian        783\n",
       "russian          782\n",
       "jamaican         777\n",
       "Name: ingredients, dtype: int64"
      ]
     },
     "execution_count": 95,
     "metadata": {},
     "output_type": "execute_result"
    }
   ],
   "source": [
    "# Lists number of unique ingredients per cuisine\n",
    "unique_ingredients_cuisine.apply(len).sort_values(ascending=False)"
   ]
  },
  {
   "cell_type": "markdown",
   "metadata": {},
   "source": [
    "### Unique ingredients in the train set"
   ]
  },
  {
   "cell_type": "code",
   "execution_count": 96,
   "metadata": {},
   "outputs": [
    {
     "name": "stdout",
     "output_type": "stream",
     "text": [
      "There are 6289 unique ingredients in the dataset.\n"
     ]
    }
   ],
   "source": [
    "# Get unique ingredients\n",
    "unique_ingredients = get_ingredients(unique_ingredients_cuisine).unique()\n",
    "\n",
    "print('There are ' + str(len(unique_ingredients)) + ' unique ingredients in the dataset.')"
   ]
  },
  {
   "cell_type": "markdown",
   "metadata": {},
   "source": [
    "### Number of times each ingredient appear in a cuisine"
   ]
  },
  {
   "cell_type": "code",
   "execution_count": 97,
   "metadata": {},
   "outputs": [
    {
     "data": {
      "text/plain": [
       "rotisserie chicken    {'brazilian': 1, 'cajun_creole': 2, 'chinese':...\n",
       "mustard               {'brazilian': 1, 'british': 9, 'cajun_creole':...\n",
       "key lime               {'brazilian': 2, 'mexican': 2, 'southern_us': 1}\n",
       "whole milk            {'brazilian': 11, 'british': 44, 'cajun_creole...\n",
       "chicken breasts       {'brazilian': 8, 'cajun_creole': 32, 'chinese'...\n",
       "dtype: object"
      ]
     },
     "execution_count": 97,
     "metadata": {},
     "output_type": "execute_result"
    }
   ],
   "source": [
    "# Number of times each ingredient appear in a cuisine\n",
    "from Methods import check_for_ingredient\n",
    "def number_cuisine_per_ingredient(unique):\n",
    "    cuisines_count_per_ingredient = dict()\n",
    "    for ingredient in unique:\n",
    "        cuisines_count_per_ingredient[ingredient] = check_for_ingredient(all_ingredient_by_cuisine_count, ingredient)\n",
    "    return Series(cuisines_count_per_ingredient)\n",
    "        \n",
    "cuisines_count_per_ingredient = number_cuisine_per_ingredient(unique_ingredients)\n",
    "\n",
    "cuisines_count_per_ingredient.head()"
   ]
  },
  {
   "cell_type": "markdown",
   "metadata": {},
   "source": [
    "### Unique Cuisines Each Ingredient Appears"
   ]
  },
  {
   "cell_type": "code",
   "execution_count": 98,
   "metadata": {},
   "outputs": [],
   "source": [
    "# Get name of cuisine from dictionary with frequency in which they appear\n",
    "from Methods import extract_cuisine\n",
    "\n",
    "cuisines_per_ingredient = cuisines_count_per_ingredient.apply(extract_cuisine)"
   ]
  },
  {
   "cell_type": "code",
   "execution_count": 99,
   "metadata": {},
   "outputs": [
    {
     "data": {
      "text/plain": [
       "rotisserie chicken    [brazilian, cajun_creole, chinese, greek, indi...\n",
       "mustard               [brazilian, british, cajun_creole, chinese, fr...\n",
       "key lime                              [brazilian, mexican, southern_us]\n",
       "whole milk            [brazilian, british, cajun_creole, chinese, fi...\n",
       "chicken breasts       [brazilian, cajun_creole, chinese, filipino, f...\n",
       "chipped beef                                                [brazilian]\n",
       "apple juice           [brazilian, chinese, french, indian, irish, it...\n",
       "pinto beans           [brazilian, cajun_creole, french, italian, mex...\n",
       "ground cinnamon       [brazilian, british, cajun_creole, chinese, fi...\n",
       "chicken thighs        [brazilian, cajun_creole, chinese, filipino, f...\n",
       "dtype: object"
      ]
     },
     "execution_count": 99,
     "metadata": {},
     "output_type": "execute_result"
    }
   ],
   "source": [
    "cuisines_per_ingredient[:10]"
   ]
  },
  {
   "cell_type": "markdown",
   "metadata": {},
   "source": [
    "## Check for *common ingredients* in all cuisines\n",
    "After we updated all the variables shown in the `DataPresentation.ipynb` notebook to the train set, we are now going to attempt to reduce the dataset dimensionality by finding all the common ingredients among all cuisine and removing them. The rationale is that if an ingredient appear in all cuisines, it cannot be considered a good predictor of a cuisine. "
   ]
  },
  {
   "cell_type": "code",
   "execution_count": 100,
   "metadata": {},
   "outputs": [
    {
     "data": {
      "text/plain": [
       "['vegetable oil',\n",
       " 'ground cinnamon',\n",
       " 'garlic powder',\n",
       " 'all-purpose flour',\n",
       " 'sea salt',\n",
       " 'cayenne',\n",
       " 'ginger',\n",
       " 'minced garlic',\n",
       " 'red bell pepper',\n",
       " 'extra-virgin olive oil']"
      ]
     },
     "execution_count": 100,
     "metadata": {},
     "output_type": "execute_result"
    },
    {
     "name": "stdout",
     "output_type": "stream",
     "text": [
      "There are 86 common ingredients.\n"
     ]
    }
   ],
   "source": [
    "from Methods import get_common_ingredients\n",
    "\n",
    "common_ingredients = get_common_ingredients(unique_ingredients_cuisine)\n",
    "\n",
    "common_ingredients[:10]\n",
    "\n",
    "print('There are ' + str(len(common_ingredients)) + ' common ingredients.')"
   ]
  },
  {
   "cell_type": "markdown",
   "metadata": {},
   "source": [
    "### Remove common ingredientes by cuisine"
   ]
  },
  {
   "cell_type": "code",
   "execution_count": 101,
   "metadata": {},
   "outputs": [
    {
     "data": {
      "text/plain": [
       "cuisine\n",
       "italian         2649\n",
       "mexican         2378\n",
       "southern_us     2177\n",
       "french          1846\n",
       "chinese         1548\n",
       "indian          1453\n",
       "cajun_creole    1344\n",
       "japanese        1219\n",
       "thai            1169\n",
       "spanish         1053\n",
       "greek           1022\n",
       "british          970\n",
       "vietnamese       937\n",
       "moroccan         808\n",
       "irish            784\n",
       "filipino         767\n",
       "korean           713\n",
       "brazilian        697\n",
       "russian          696\n",
       "jamaican         691\n",
       "Name: ingredients, dtype: int64"
      ]
     },
     "execution_count": 101,
     "metadata": {},
     "output_type": "execute_result"
    }
   ],
   "source": [
    "from Methods import remove_ingredients\n",
    "\n",
    "unique_ingredients_cuisine = unique_ingredients_cuisine.apply(remove_ingredients, remove=common_ingredients)\n",
    "\n",
    "unique_ingredients_cuisine.apply(len).sort_values(ascending=False)"
   ]
  },
  {
   "cell_type": "markdown",
   "metadata": {},
   "source": [
    "### Remove common ingredientes from the list of all ingredients"
   ]
  },
  {
   "cell_type": "code",
   "execution_count": 102,
   "metadata": {},
   "outputs": [
    {
     "data": {
      "text/plain": [
       "soy sauce                 2633\n",
       "tomatoes                  2434\n",
       "ground cumin              2178\n",
       "chili powder              1613\n",
       "grated parmesan cheese    1537\n",
       "sesame oil                1417\n",
       "corn starch               1402\n",
       "jalapeno chilies          1402\n",
       "fresh lemon juice         1379\n",
       "chopped cilantro fresh    1376\n",
       "dried oregano             1368\n",
       "fresh parsley             1324\n",
       "diced tomatoes            1288\n",
       "sour cream                1235\n",
       "fresh ginger              1210\n",
       "lime                      1157\n",
       "fresh lime juice          1094\n",
       "fish sauce                 998\n",
       "dry white wine             992\n",
       "chopped onion              990\n",
       "dtype: int64"
      ]
     },
     "execution_count": 102,
     "metadata": {},
     "output_type": "execute_result"
    }
   ],
   "source": [
    "#Removes common ingredientes of the list all observation of all ingredients used in all recipes\n",
    "\n",
    "all_ingredients = all_ingredients[~all_ingredients.isin(Series(common_ingredients))]\n",
    "all_ingredients.reset_index(drop=True, inplace=True)\n",
    "all_ingredients.value_counts()[:20]"
   ]
  },
  {
   "cell_type": "code",
   "execution_count": 103,
   "metadata": {},
   "outputs": [
    {
     "name": "stdout",
     "output_type": "stream",
     "text": [
      "There are 6203 unique ingredients.\n"
     ]
    }
   ],
   "source": [
    "# Number of unique ingredients after removing common ingredients\n",
    "print('There are ' + str(len(set(all_ingredients))) + ' unique ingredients.')"
   ]
  },
  {
   "cell_type": "markdown",
   "metadata": {},
   "source": [
    "# DataFrame Manipulation"
   ]
  },
  {
   "cell_type": "code",
   "execution_count": 104,
   "metadata": {},
   "outputs": [
    {
     "data": {
      "text/html": [
       "<div>\n",
       "<style scoped>\n",
       "    .dataframe tbody tr th:only-of-type {\n",
       "        vertical-align: middle;\n",
       "    }\n",
       "\n",
       "    .dataframe tbody tr th {\n",
       "        vertical-align: top;\n",
       "    }\n",
       "\n",
       "    .dataframe thead th {\n",
       "        text-align: right;\n",
       "    }\n",
       "</style>\n",
       "<table border=\"1\" class=\"dataframe\">\n",
       "  <thead>\n",
       "    <tr style=\"text-align: right;\">\n",
       "      <th></th>\n",
       "      <th>cuisine</th>\n",
       "      <th>id</th>\n",
       "      <th>size_recipe</th>\n",
       "      <th>ingredients</th>\n",
       "    </tr>\n",
       "  </thead>\n",
       "  <tbody>\n",
       "    <tr>\n",
       "      <th>0</th>\n",
       "      <td>chinese</td>\n",
       "      <td>45548</td>\n",
       "      <td>25</td>\n",
       "      <td>[seasoning, meat marinade, pork tenderloin, se...</td>\n",
       "    </tr>\n",
       "    <tr>\n",
       "      <th>1</th>\n",
       "      <td>mexican</td>\n",
       "      <td>8172</td>\n",
       "      <td>11</td>\n",
       "      <td>[eggs, cream style corn, enchilada sauce, shre...</td>\n",
       "    </tr>\n",
       "    <tr>\n",
       "      <th>2</th>\n",
       "      <td>italian</td>\n",
       "      <td>24224</td>\n",
       "      <td>14</td>\n",
       "      <td>[frozen chopped spinach, ground black pepper, ...</td>\n",
       "    </tr>\n",
       "    <tr>\n",
       "      <th>3</th>\n",
       "      <td>thai</td>\n",
       "      <td>3640</td>\n",
       "      <td>9</td>\n",
       "      <td>[coconut sugar, Thai red curry paste, coconut ...</td>\n",
       "    </tr>\n",
       "    <tr>\n",
       "      <th>4</th>\n",
       "      <td>mexican</td>\n",
       "      <td>13754</td>\n",
       "      <td>17</td>\n",
       "      <td>[frozen orange juice concentrate, olive oil, r...</td>\n",
       "    </tr>\n",
       "  </tbody>\n",
       "</table>\n",
       "</div>"
      ],
      "text/plain": [
       "   cuisine     id  size_recipe  \\\n",
       "0  chinese  45548           25   \n",
       "1  mexican   8172           11   \n",
       "2  italian  24224           14   \n",
       "3     thai   3640            9   \n",
       "4  mexican  13754           17   \n",
       "\n",
       "                                         ingredients  \n",
       "0  [seasoning, meat marinade, pork tenderloin, se...  \n",
       "1  [eggs, cream style corn, enchilada sauce, shre...  \n",
       "2  [frozen chopped spinach, ground black pepper, ...  \n",
       "3  [coconut sugar, Thai red curry paste, coconut ...  \n",
       "4  [frozen orange juice concentrate, olive oil, r...  "
      ]
     },
     "execution_count": 104,
     "metadata": {},
     "output_type": "execute_result"
    }
   ],
   "source": [
    "df_train = df_train_original.copy()\n",
    "\n",
    "df_train.head()"
   ]
  },
  {
   "cell_type": "markdown",
   "metadata": {},
   "source": [
    "## Remove commom ingredients from recipes\n",
    "Now the common ingredients will be removed from the dataset. It is important to note however, that by doing that some recipes might become empty. The functions `remove_ingredients_from_table` and `remove_ingredients_from_table_dummified` imported from `Methods.py` that are used to perform this task already takes that into consideration and removes all zero ingredient recipes in case they exist."
   ]
  },
  {
   "cell_type": "markdown",
   "metadata": {},
   "source": [
    "### From normal table"
   ]
  },
  {
   "cell_type": "code",
   "execution_count": 105,
   "metadata": {
    "scrolled": true
   },
   "outputs": [
    {
     "data": {
      "text/html": [
       "<div>\n",
       "<style scoped>\n",
       "    .dataframe tbody tr th:only-of-type {\n",
       "        vertical-align: middle;\n",
       "    }\n",
       "\n",
       "    .dataframe tbody tr th {\n",
       "        vertical-align: top;\n",
       "    }\n",
       "\n",
       "    .dataframe thead th {\n",
       "        text-align: right;\n",
       "    }\n",
       "</style>\n",
       "<table border=\"1\" class=\"dataframe\">\n",
       "  <thead>\n",
       "    <tr style=\"text-align: right;\">\n",
       "      <th></th>\n",
       "      <th>cuisine</th>\n",
       "      <th>id</th>\n",
       "      <th>size_recipe</th>\n",
       "      <th>ingredients</th>\n",
       "    </tr>\n",
       "  </thead>\n",
       "  <tbody>\n",
       "    <tr>\n",
       "      <th>0</th>\n",
       "      <td>chinese</td>\n",
       "      <td>45548</td>\n",
       "      <td>16</td>\n",
       "      <td>[oyster sauce, fresh ginger, pork tenderloin, ...</td>\n",
       "    </tr>\n",
       "    <tr>\n",
       "      <th>1</th>\n",
       "      <td>mexican</td>\n",
       "      <td>8172</td>\n",
       "      <td>9</td>\n",
       "      <td>[sour cream, lime wedges, enchilada sauce, chi...</td>\n",
       "    </tr>\n",
       "    <tr>\n",
       "      <th>2</th>\n",
       "      <td>italian</td>\n",
       "      <td>24224</td>\n",
       "      <td>8</td>\n",
       "      <td>[grated parmesan cheese, frozen chopped spinac...</td>\n",
       "    </tr>\n",
       "    <tr>\n",
       "      <th>3</th>\n",
       "      <td>thai</td>\n",
       "      <td>3640</td>\n",
       "      <td>7</td>\n",
       "      <td>[coconut milk, Thai red curry paste, lime juic...</td>\n",
       "    </tr>\n",
       "    <tr>\n",
       "      <th>4</th>\n",
       "      <td>mexican</td>\n",
       "      <td>13754</td>\n",
       "      <td>11</td>\n",
       "      <td>[dried black beans, crushed garlic, lime, sage...</td>\n",
       "    </tr>\n",
       "  </tbody>\n",
       "</table>\n",
       "</div>"
      ],
      "text/plain": [
       "   cuisine     id  size_recipe  \\\n",
       "0  chinese  45548           16   \n",
       "1  mexican   8172            9   \n",
       "2  italian  24224            8   \n",
       "3     thai   3640            7   \n",
       "4  mexican  13754           11   \n",
       "\n",
       "                                         ingredients  \n",
       "0  [oyster sauce, fresh ginger, pork tenderloin, ...  \n",
       "1  [sour cream, lime wedges, enchilada sauce, chi...  \n",
       "2  [grated parmesan cheese, frozen chopped spinac...  \n",
       "3  [coconut milk, Thai red curry paste, lime juic...  \n",
       "4  [dried black beans, crushed garlic, lime, sage...  "
      ]
     },
     "execution_count": 105,
     "metadata": {},
     "output_type": "execute_result"
    },
    {
     "data": {
      "text/plain": [
       "(31676, 4)"
      ]
     },
     "execution_count": 105,
     "metadata": {},
     "output_type": "execute_result"
    }
   ],
   "source": [
    "from Methods import remove_ingredients_from_table\n",
    "\n",
    "df_train = remove_ingredients_from_table(df_train, common_ingredients)\n",
    "\n",
    "df_train.head()\n",
    "df_train.shape"
   ]
  },
  {
   "cell_type": "markdown",
   "metadata": {},
   "source": [
    "### From Dummified table "
   ]
  },
  {
   "cell_type": "code",
   "execution_count": 106,
   "metadata": {},
   "outputs": [
    {
     "name": "stderr",
     "output_type": "stream",
     "text": [
      "C:\\Users\\Rafael\\Anaconda3\\envs\\data3\\lib\\site-packages\\pandas\\core\\indexing.py:543: SettingWithCopyWarning: \n",
      "A value is trying to be set on a copy of a slice from a DataFrame.\n",
      "Try using .loc[row_indexer,col_indexer] = value instead\n",
      "\n",
      "See the caveats in the documentation: http://pandas.pydata.org/pandas-docs/stable/indexing.html#indexing-view-versus-copy\n",
      "  self.obj[item] = s\n"
     ]
    },
    {
     "data": {
      "text/html": [
       "<div>\n",
       "<style scoped>\n",
       "    .dataframe tbody tr th:only-of-type {\n",
       "        vertical-align: middle;\n",
       "    }\n",
       "\n",
       "    .dataframe tbody tr th {\n",
       "        vertical-align: top;\n",
       "    }\n",
       "\n",
       "    .dataframe thead th {\n",
       "        text-align: right;\n",
       "    }\n",
       "</style>\n",
       "<table border=\"1\" class=\"dataframe\">\n",
       "  <thead>\n",
       "    <tr style=\"text-align: right;\">\n",
       "      <th></th>\n",
       "      <th>cuisine</th>\n",
       "      <th>id</th>\n",
       "      <th>size_recipe</th>\n",
       "      <th>(    oz.) tomato sauce</th>\n",
       "      <th>(   oz.) tomato paste</th>\n",
       "      <th>(10 oz.) frozen chopped spinach</th>\n",
       "      <th>(10 oz.) frozen chopped spinach, thawed and squeezed dry</th>\n",
       "      <th>(14 oz.) sweetened condensed milk</th>\n",
       "      <th>(14.5 oz.) diced tomatoes</th>\n",
       "      <th>(15 oz.) refried beans</th>\n",
       "      <th>...</th>\n",
       "      <th>yukon gold potatoes</th>\n",
       "      <th>yuzu</th>\n",
       "      <th>yuzu juice</th>\n",
       "      <th>za'atar</th>\n",
       "      <th>zest</th>\n",
       "      <th>zesty italian dressing</th>\n",
       "      <th>zinfandel</th>\n",
       "      <th>ziti</th>\n",
       "      <th>zucchini</th>\n",
       "      <th>zucchini blossoms</th>\n",
       "    </tr>\n",
       "  </thead>\n",
       "  <tbody>\n",
       "    <tr>\n",
       "      <th>0</th>\n",
       "      <td>greek</td>\n",
       "      <td>10259</td>\n",
       "      <td>5</td>\n",
       "      <td>0</td>\n",
       "      <td>0</td>\n",
       "      <td>0</td>\n",
       "      <td>0</td>\n",
       "      <td>0</td>\n",
       "      <td>0</td>\n",
       "      <td>0</td>\n",
       "      <td>...</td>\n",
       "      <td>0</td>\n",
       "      <td>0</td>\n",
       "      <td>0</td>\n",
       "      <td>0</td>\n",
       "      <td>0</td>\n",
       "      <td>0</td>\n",
       "      <td>0</td>\n",
       "      <td>0</td>\n",
       "      <td>0</td>\n",
       "      <td>0</td>\n",
       "    </tr>\n",
       "    <tr>\n",
       "      <th>1</th>\n",
       "      <td>southern_us</td>\n",
       "      <td>25693</td>\n",
       "      <td>5</td>\n",
       "      <td>0</td>\n",
       "      <td>0</td>\n",
       "      <td>0</td>\n",
       "      <td>0</td>\n",
       "      <td>0</td>\n",
       "      <td>0</td>\n",
       "      <td>0</td>\n",
       "      <td>...</td>\n",
       "      <td>0</td>\n",
       "      <td>0</td>\n",
       "      <td>0</td>\n",
       "      <td>0</td>\n",
       "      <td>0</td>\n",
       "      <td>0</td>\n",
       "      <td>0</td>\n",
       "      <td>0</td>\n",
       "      <td>0</td>\n",
       "      <td>0</td>\n",
       "    </tr>\n",
       "    <tr>\n",
       "      <th>2</th>\n",
       "      <td>filipino</td>\n",
       "      <td>20130</td>\n",
       "      <td>4</td>\n",
       "      <td>0</td>\n",
       "      <td>0</td>\n",
       "      <td>0</td>\n",
       "      <td>0</td>\n",
       "      <td>0</td>\n",
       "      <td>0</td>\n",
       "      <td>0</td>\n",
       "      <td>...</td>\n",
       "      <td>0</td>\n",
       "      <td>0</td>\n",
       "      <td>0</td>\n",
       "      <td>0</td>\n",
       "      <td>0</td>\n",
       "      <td>0</td>\n",
       "      <td>0</td>\n",
       "      <td>0</td>\n",
       "      <td>0</td>\n",
       "      <td>0</td>\n",
       "    </tr>\n",
       "    <tr>\n",
       "      <th>3</th>\n",
       "      <td>indian</td>\n",
       "      <td>22213</td>\n",
       "      <td>1</td>\n",
       "      <td>0</td>\n",
       "      <td>0</td>\n",
       "      <td>0</td>\n",
       "      <td>0</td>\n",
       "      <td>0</td>\n",
       "      <td>0</td>\n",
       "      <td>0</td>\n",
       "      <td>...</td>\n",
       "      <td>0</td>\n",
       "      <td>0</td>\n",
       "      <td>0</td>\n",
       "      <td>0</td>\n",
       "      <td>0</td>\n",
       "      <td>0</td>\n",
       "      <td>0</td>\n",
       "      <td>0</td>\n",
       "      <td>0</td>\n",
       "      <td>0</td>\n",
       "    </tr>\n",
       "    <tr>\n",
       "      <th>4</th>\n",
       "      <td>indian</td>\n",
       "      <td>13162</td>\n",
       "      <td>10</td>\n",
       "      <td>0</td>\n",
       "      <td>0</td>\n",
       "      <td>0</td>\n",
       "      <td>0</td>\n",
       "      <td>0</td>\n",
       "      <td>0</td>\n",
       "      <td>0</td>\n",
       "      <td>...</td>\n",
       "      <td>0</td>\n",
       "      <td>0</td>\n",
       "      <td>0</td>\n",
       "      <td>0</td>\n",
       "      <td>0</td>\n",
       "      <td>0</td>\n",
       "      <td>0</td>\n",
       "      <td>0</td>\n",
       "      <td>0</td>\n",
       "      <td>0</td>\n",
       "    </tr>\n",
       "  </tbody>\n",
       "</table>\n",
       "<p>5 rows × 6631 columns</p>\n",
       "</div>"
      ],
      "text/plain": [
       "       cuisine     id  size_recipe  (    oz.) tomato sauce  \\\n",
       "0        greek  10259            5                       0   \n",
       "1  southern_us  25693            5                       0   \n",
       "2     filipino  20130            4                       0   \n",
       "3       indian  22213            1                       0   \n",
       "4       indian  13162           10                       0   \n",
       "\n",
       "   (   oz.) tomato paste  (10 oz.) frozen chopped spinach  \\\n",
       "0                      0                                0   \n",
       "1                      0                                0   \n",
       "2                      0                                0   \n",
       "3                      0                                0   \n",
       "4                      0                                0   \n",
       "\n",
       "   (10 oz.) frozen chopped spinach, thawed and squeezed dry  \\\n",
       "0                                                  0          \n",
       "1                                                  0          \n",
       "2                                                  0          \n",
       "3                                                  0          \n",
       "4                                                  0          \n",
       "\n",
       "   (14 oz.) sweetened condensed milk  (14.5 oz.) diced tomatoes  \\\n",
       "0                                  0                          0   \n",
       "1                                  0                          0   \n",
       "2                                  0                          0   \n",
       "3                                  0                          0   \n",
       "4                                  0                          0   \n",
       "\n",
       "   (15 oz.) refried beans        ...          yukon gold potatoes  yuzu  \\\n",
       "0                       0        ...                            0     0   \n",
       "1                       0        ...                            0     0   \n",
       "2                       0        ...                            0     0   \n",
       "3                       0        ...                            0     0   \n",
       "4                       0        ...                            0     0   \n",
       "\n",
       "   yuzu juice  za'atar  zest  zesty italian dressing  zinfandel  ziti  \\\n",
       "0           0        0     0                       0          0     0   \n",
       "1           0        0     0                       0          0     0   \n",
       "2           0        0     0                       0          0     0   \n",
       "3           0        0     0                       0          0     0   \n",
       "4           0        0     0                       0          0     0   \n",
       "\n",
       "   zucchini  zucchini blossoms  \n",
       "0         0                  0  \n",
       "1         0                  0  \n",
       "2         0                  0  \n",
       "3         0                  0  \n",
       "4         0                  0  \n",
       "\n",
       "[5 rows x 6631 columns]"
      ]
     },
     "execution_count": 106,
     "metadata": {},
     "output_type": "execute_result"
    },
    {
     "data": {
      "text/plain": [
       "(39603, 6631)"
      ]
     },
     "execution_count": 106,
     "metadata": {},
     "output_type": "execute_result"
    }
   ],
   "source": [
    "from Methods import remove_ingredients_from_table_dummified\n",
    "\n",
    "df_train_dummified = remove_ingredients_from_table_dummified(df_original_dummified, common_ingredients)\n",
    "\n",
    "df_train_dummified.head()\n",
    "df_train_dummified.shape"
   ]
  },
  {
   "cell_type": "markdown",
   "metadata": {},
   "source": [
    "## Updates variables after removal of common ingredients from dataset"
   ]
  },
  {
   "cell_type": "code",
   "execution_count": 107,
   "metadata": {},
   "outputs": [
    {
     "data": {
      "text/plain": [
       "italian         6318\n",
       "mexican         5114\n",
       "southern_us     3431\n",
       "indian          2397\n",
       "chinese         2154\n",
       "french          2053\n",
       "cajun_creole    1230\n",
       "thai            1223\n",
       "japanese        1125\n",
       "greek            951\n",
       "Name: cuisine, dtype: int64"
      ]
     },
     "execution_count": 107,
     "metadata": {},
     "output_type": "execute_result"
    }
   ],
   "source": [
    "# Number of recipes per cuisine\n",
    "number_recipe_cuisine = df_train['cuisine'].value_counts()\n",
    "number_recipe_cuisine[:10]"
   ]
  },
  {
   "cell_type": "code",
   "execution_count": 108,
   "metadata": {},
   "outputs": [
    {
     "data": {
      "text/plain": [
       "soy sauce                 2633\n",
       "tomatoes                  2434\n",
       "ground cumin              2178\n",
       "chili powder              1613\n",
       "grated parmesan cheese    1537\n",
       "sesame oil                1417\n",
       "corn starch               1402\n",
       "jalapeno chilies          1402\n",
       "fresh lemon juice         1379\n",
       "chopped cilantro fresh    1376\n",
       "dtype: int64"
      ]
     },
     "execution_count": 108,
     "metadata": {},
     "output_type": "execute_result"
    }
   ],
   "source": [
    "all_ingredients = get_ingredients(df_train)\n",
    "all_ingredients.value_counts()[:10]"
   ]
  },
  {
   "cell_type": "code",
   "execution_count": 109,
   "metadata": {},
   "outputs": [
    {
     "data": {
      "text/plain": [
       "cuisine\n",
       "brazilian       [hemp seeds, aÃ§ai, chia seeds, raspberries, p...\n",
       "british         [bread crumbs, pork liver, dried sage, pork bu...\n",
       "cajun_creole    [boneless skinless chicken breasts, cajun seas...\n",
       "chinese         [oyster sauce, fresh ginger, pork tenderloin, ...\n",
       "filipino        [coconut milk, crushed ice, berries, condensed...\n",
       "french          [grated GruyÃ¨re cheese, chopped fresh chives,...\n",
       "greek           [fresh dill, plain yogurt, baking potatoes, to...\n",
       "indian          [red potato, chopped onion, unsweetened coconu...\n",
       "irish           [black peppercorns, chopped celery, chopped on...\n",
       "italian         [grated parmesan cheese, frozen chopped spinac...\n",
       "jamaican        [red chili peppers, ground allspice, lime juic...\n",
       "japanese        [dried shiitake mushrooms, sesame oil, corn st...\n",
       "korean          [sirloin, mirin, sesame oil, sesame seeds, dar...\n",
       "mexican         [sour cream, lime wedges, enchilada sauce, chi...\n",
       "moroccan        [cumin, serrano chile, chiles, fresh cilantro,...\n",
       "russian         [cottage cheese, vanilla sugar, cream cheese, ...\n",
       "southern_us     [celery ribs, scallion greens, long grain whit...\n",
       "spanish         [bell pepper, saffron, tomatoes, large shrimp,...\n",
       "thai            [coconut milk, Thai red curry paste, lime juic...\n",
       "vietnamese      [dried shiitake mushrooms, duck drumsticks, se...\n",
       "Name: ingredients, dtype: object"
      ]
     },
     "execution_count": 109,
     "metadata": {},
     "output_type": "execute_result"
    }
   ],
   "source": [
    "# Group all ingredients by cuisine after removing common ingredients\n",
    "all_ingredients_cuisine = df_train.groupby('cuisine')['ingredients'].sum()\n",
    "\n",
    "all_ingredients_cuisine"
   ]
  },
  {
   "cell_type": "code",
   "execution_count": 110,
   "metadata": {},
   "outputs": [
    {
     "data": {
      "text/plain": [
       "cuisine\n",
       "brazilian       {'lime': 75, 'cachaca': 60, 'tomatoes': 53, 'c...\n",
       "british         {'baking soda': 58, 'whipping cream': 49, 'who...\n",
       "cajun_creole    {'cajun seasoning': 241, 'dried thyme': 193, '...\n",
       "chinese         {'soy sauce': 1104, 'sesame oil': 757, 'corn s...\n",
       "filipino        {'soy sauce': 195, 'fish sauce': 75, 'coconut ...\n",
       "french          {'fresh lemon juice': 201, 'dry white wine': 1...\n",
       "greek           {'dried oregano': 207, 'feta cheese crumbles':...\n",
       "indian          {'garam masala': 691, 'ground turmeric': 581, ...\n",
       "irish           {'baking soda': 96, 'buttermilk': 65, 'cabbage...\n",
       "italian         {'grated parmesan cheese': 1296, 'fresh basil'...\n",
       "jamaican        {'ground allspice': 106, 'dried thyme': 88, 'c...\n",
       "japanese        {'soy sauce': 433, 'mirin': 303, 'sake': 210, ...\n",
       "korean          {'soy sauce': 326, 'sesame oil': 309, 'sesame ...\n",
       "mexican         {'ground cumin': 1061, 'chili powder': 977, 'j...\n",
       "moroccan        {'ground cumin': 272, 'couscous': 116, 'ground...\n",
       "russian         {'sour cream': 91, 'beets': 42, 'fresh dill': ...\n",
       "southern_us     {'buttermilk': 490, 'baking soda': 354, 'chopp...\n",
       "spanish         {'tomatoes': 124, 'fresh parsley': 83, 'saffro...\n",
       "thai            {'fish sauce': 495, 'soy sauce': 270, 'coconut...\n",
       "vietnamese      {'fish sauce': 318, 'soy sauce': 133, 'rice vi...\n",
       "Name: ingredients, dtype: object"
      ]
     },
     "execution_count": 110,
     "metadata": {},
     "output_type": "execute_result"
    }
   ],
   "source": [
    "all_ingredient_by_cuisine_count = all_ingredients_cuisine.apply(count_occ)\n",
    "\n",
    "all_ingredient_by_cuisine_count"
   ]
  },
  {
   "cell_type": "code",
   "execution_count": 111,
   "metadata": {},
   "outputs": [
    {
     "data": {
      "text/plain": [
       "cuisine\n",
       "brazilian       [rotisserie chicken, mustard, key lime, whole ...\n",
       "british         [mustard, pie crust, pickling salt, whole milk...\n",
       "cajun_creole    [mustard, shredded parmesan cheese, rotisserie...\n",
       "chinese         [rotisserie chicken, sweet and sour sauce, sob...\n",
       "filipino        [pie crust, whole milk, chicken breasts, guava...\n",
       "french          [shredded parmesan cheese, pie crust, dark mus...\n",
       "greek           [rotisserie chicken, whole milk, chicken breas...\n",
       "indian          [rotisserie chicken, pie crust, lamb neck, app...\n",
       "irish           [mustard, pie crust, whole milk, dark muscovad...\n",
       "italian         [shredded parmesan cheese, rotisserie chicken,...\n",
       "jamaican        [sweet and sour sauce, codfish, chicken breast...\n",
       "japanese        [mustard, whole milk, boneless center cut pork...\n",
       "korean          [stir fry beef meat, pickling salt, soba, chic...\n",
       "mexican         [rotisserie chicken, shredded parmesan cheese,...\n",
       "moroccan        [rotisserie chicken, whole milk, veal demi-gla...\n",
       "russian         [mustard, whole milk, candy sprinkles, chicken...\n",
       "southern_us     [shredded parmesan cheese, rotisserie chicken,...\n",
       "spanish         [rotisserie chicken, mustard, jalape, whole mi...\n",
       "thai            [rotisserie chicken, mustard, jalape, whole mi...\n",
       "vietnamese      [rotisserie chicken, sweet and sour sauce, pic...\n",
       "Name: ingredients, dtype: object"
      ]
     },
     "execution_count": 111,
     "metadata": {},
     "output_type": "execute_result"
    }
   ],
   "source": [
    "unique_ingredients_cuisine = all_ingredients_cuisine.apply(remove_duplicates)\n",
    "\n",
    "unique_ingredients_cuisine"
   ]
  },
  {
   "cell_type": "code",
   "execution_count": 112,
   "metadata": {},
   "outputs": [
    {
     "data": {
      "text/plain": [
       "cuisine\n",
       "italian         2649\n",
       "mexican         2378\n",
       "southern_us     2177\n",
       "french          1846\n",
       "chinese         1548\n",
       "indian          1453\n",
       "cajun_creole    1344\n",
       "japanese        1219\n",
       "thai            1169\n",
       "spanish         1053\n",
       "greek           1022\n",
       "british          970\n",
       "vietnamese       937\n",
       "moroccan         808\n",
       "irish            784\n",
       "filipino         767\n",
       "korean           713\n",
       "brazilian        697\n",
       "russian          696\n",
       "jamaican         691\n",
       "Name: ingredients, dtype: int64"
      ]
     },
     "execution_count": 112,
     "metadata": {},
     "output_type": "execute_result"
    }
   ],
   "source": [
    "# Lists number of unique ingredients per cuisine\n",
    "unique_ingredients_cuisine.apply(len).sort_values(ascending=False)"
   ]
  },
  {
   "cell_type": "code",
   "execution_count": 113,
   "metadata": {},
   "outputs": [
    {
     "data": {
      "text/plain": [
       "0    rotisserie chicken\n",
       "1               mustard\n",
       "2              key lime\n",
       "3            whole milk\n",
       "4       chicken breasts\n",
       "5          chipped beef\n",
       "6           apple juice\n",
       "7           pinto beans\n",
       "8        chicken thighs\n",
       "9             soy sauce\n",
       "dtype: object"
      ]
     },
     "execution_count": 113,
     "metadata": {},
     "output_type": "execute_result"
    },
    {
     "name": "stdout",
     "output_type": "stream",
     "text": [
      "There are 6203 unique ingredients after removing common ingredients\n"
     ]
    }
   ],
   "source": [
    "# Get unique ingredients\n",
    "unique_ingredients = Series(get_ingredients(unique_ingredients_cuisine).unique())\n",
    "unique_ingredients[:10]\n",
    "\n",
    "print('There are ' + str(len(unique_ingredients)) + ' unique ingredients after removing common ingredients')"
   ]
  },
  {
   "cell_type": "code",
   "execution_count": 114,
   "metadata": {},
   "outputs": [
    {
     "data": {
      "text/plain": [
       "rotisserie chicken       {'brazilian': 1, 'cajun_creole': 2, 'chinese':...\n",
       "mustard                  {'brazilian': 1, 'british': 9, 'cajun_creole':...\n",
       "key lime                  {'brazilian': 2, 'mexican': 2, 'southern_us': 1}\n",
       "whole milk               {'brazilian': 11, 'british': 44, 'cajun_creole...\n",
       "chicken breasts          {'brazilian': 8, 'cajun_creole': 32, 'chinese'...\n",
       "chipped beef                                              {'brazilian': 1}\n",
       "apple juice              {'brazilian': 1, 'chinese': 1, 'french': 4, 'i...\n",
       "pinto beans              {'brazilian': 1, 'cajun_creole': 1, 'french': ...\n",
       "chicken thighs           {'brazilian': 1, 'cajun_creole': 15, 'chinese'...\n",
       "soy sauce                {'brazilian': 1, 'cajun_creole': 10, 'chinese'...\n",
       "shells                   {'brazilian': 1, 'cajun_creole': 6, 'chinese':...\n",
       "plain yogurt             {'brazilian': 3, 'chinese': 1, 'french': 6, 'g...\n",
       "beer                     {'brazilian': 5, 'british': 20, 'cajun_creole'...\n",
       "garlic salt              {'brazilian': 1, 'cajun_creole': 11, 'chinese'...\n",
       "star anise               {'brazilian': 1, 'british': 1, 'chinese': 80, ...\n",
       "caraway seeds            {'brazilian': 1, 'british': 2, 'french': 6, 'i...\n",
       "fresh prawn              {'brazilian': 1, 'cajun_creole': 1, 'chinese':...\n",
       "sirloin steak            {'brazilian': 1, 'cajun_creole': 1, 'chinese':...\n",
       "low sodium beef broth    {'brazilian': 1, 'chinese': 2, 'french': 2, 'i...\n",
       "idaho potatoes           {'brazilian': 1, 'british': 1, 'french': 2, 'g...\n",
       "dtype: object"
      ]
     },
     "execution_count": 114,
     "metadata": {},
     "output_type": "execute_result"
    }
   ],
   "source": [
    "# Number of cuisines each ingredient appears after removing common ingredients\n",
    "cuisines_count_per_ingredient = number_cuisine_per_ingredient(unique_ingredients)\n",
    "\n",
    "cuisines_count_per_ingredient[:20]"
   ]
  },
  {
   "cell_type": "code",
   "execution_count": 115,
   "metadata": {},
   "outputs": [
    {
     "data": {
      "text/plain": [
       "rotisserie chicken    [brazilian, cajun_creole, chinese, greek, indi...\n",
       "mustard               [brazilian, british, cajun_creole, chinese, fr...\n",
       "key lime                              [brazilian, mexican, southern_us]\n",
       "whole milk            [brazilian, british, cajun_creole, chinese, fi...\n",
       "chicken breasts       [brazilian, cajun_creole, chinese, filipino, f...\n",
       "chipped beef                                                [brazilian]\n",
       "apple juice           [brazilian, chinese, french, indian, irish, it...\n",
       "pinto beans           [brazilian, cajun_creole, french, italian, mex...\n",
       "chicken thighs        [brazilian, cajun_creole, chinese, filipino, f...\n",
       "soy sauce             [brazilian, cajun_creole, chinese, filipino, f...\n",
       "dtype: object"
      ]
     },
     "execution_count": 115,
     "metadata": {},
     "output_type": "execute_result"
    }
   ],
   "source": [
    "# Cuisines in which each ingredient appears\n",
    "cuisines_per_ingredient = cuisines_count_per_ingredient.apply(extract_cuisine)\n",
    "cuisines_per_ingredient[:10]"
   ]
  },
  {
   "cell_type": "code",
   "execution_count": 116,
   "metadata": {},
   "outputs": [
    {
     "name": "stdout",
     "output_type": "stream",
     "text": [
      "6203 ingredients left from an original of 6289.\n"
     ]
    }
   ],
   "source": [
    "# Check number of ingredients to verify deletion\n",
    "print(str(len(cuisines_count_per_ingredient)) + ' ingredients left from an original of 6289.')"
   ]
  },
  {
   "cell_type": "markdown",
   "metadata": {},
   "source": [
    "### Top 10 ingredients per cuisine after removing common ingredients"
   ]
  },
  {
   "cell_type": "code",
   "execution_count": 117,
   "metadata": {},
   "outputs": [
    {
     "name": "stderr",
     "output_type": "stream",
     "text": [
      "C:\\Users\\Rafael\\Anaconda3\\envs\\data3\\lib\\site-packages\\ipykernel\\__main__.py:9: FutureWarning: from_items is deprecated. Please use DataFrame.from_dict(dict(items), ...) instead. DataFrame.from_dict(OrderedDict(items)) may be used to preserve the key order.\n"
     ]
    },
    {
     "data": {
      "text/html": [
       "<div>\n",
       "<style scoped>\n",
       "    .dataframe tbody tr th:only-of-type {\n",
       "        vertical-align: middle;\n",
       "    }\n",
       "\n",
       "    .dataframe tbody tr th {\n",
       "        vertical-align: top;\n",
       "    }\n",
       "\n",
       "    .dataframe thead th {\n",
       "        text-align: right;\n",
       "    }\n",
       "</style>\n",
       "<table border=\"1\" class=\"dataframe\">\n",
       "  <thead>\n",
       "    <tr style=\"text-align: right;\">\n",
       "      <th></th>\n",
       "      <th>top1</th>\n",
       "      <th>top2</th>\n",
       "      <th>top3</th>\n",
       "      <th>top4</th>\n",
       "      <th>top5</th>\n",
       "      <th>top6</th>\n",
       "      <th>top7</th>\n",
       "      <th>top8</th>\n",
       "      <th>top9</th>\n",
       "      <th>top10</th>\n",
       "    </tr>\n",
       "  </thead>\n",
       "  <tbody>\n",
       "    <tr>\n",
       "      <th>brazilian</th>\n",
       "      <td>lime</td>\n",
       "      <td>cachaca</td>\n",
       "      <td>tomatoes</td>\n",
       "      <td>coconut milk</td>\n",
       "      <td>sweetened condensed milk</td>\n",
       "      <td>black beans</td>\n",
       "      <td>ice</td>\n",
       "      <td>lime juice</td>\n",
       "      <td>fresh cilantro</td>\n",
       "      <td>fresh lime juice</td>\n",
       "    </tr>\n",
       "    <tr>\n",
       "      <th>british</th>\n",
       "      <td>baking soda</td>\n",
       "      <td>whipping cream</td>\n",
       "      <td>whole milk</td>\n",
       "      <td>worcestershire sauce</td>\n",
       "      <td>raisins</td>\n",
       "      <td>ground nutmeg</td>\n",
       "      <td>egg yolks</td>\n",
       "      <td>plain flour</td>\n",
       "      <td>powdered sugar</td>\n",
       "      <td>large egg yolks</td>\n",
       "    </tr>\n",
       "    <tr>\n",
       "      <th>cajun_creole</th>\n",
       "      <td>cajun seasoning</td>\n",
       "      <td>dried thyme</td>\n",
       "      <td>andouille sausage</td>\n",
       "      <td>creole seasoning</td>\n",
       "      <td>shrimp</td>\n",
       "      <td>fresh parsley</td>\n",
       "      <td>worcestershire sauce</td>\n",
       "      <td>diced tomatoes</td>\n",
       "      <td>celery ribs</td>\n",
       "      <td>hot sauce</td>\n",
       "    </tr>\n",
       "    <tr>\n",
       "      <th>chinese</th>\n",
       "      <td>soy sauce</td>\n",
       "      <td>sesame oil</td>\n",
       "      <td>corn starch</td>\n",
       "      <td>rice vinegar</td>\n",
       "      <td>fresh ginger</td>\n",
       "      <td>oyster sauce</td>\n",
       "      <td>hoisin sauce</td>\n",
       "      <td>peanut oil</td>\n",
       "      <td>Shaoxing wine</td>\n",
       "      <td>light soy sauce</td>\n",
       "    </tr>\n",
       "    <tr>\n",
       "      <th>filipino</th>\n",
       "      <td>soy sauce</td>\n",
       "      <td>fish sauce</td>\n",
       "      <td>coconut milk</td>\n",
       "      <td>vinegar</td>\n",
       "      <td>corn starch</td>\n",
       "      <td>tomatoes</td>\n",
       "      <td>pork</td>\n",
       "      <td>ground pork</td>\n",
       "      <td>cabbage</td>\n",
       "      <td>chicken</td>\n",
       "    </tr>\n",
       "    <tr>\n",
       "      <th>french</th>\n",
       "      <td>fresh lemon juice</td>\n",
       "      <td>dry white wine</td>\n",
       "      <td>large egg yolks</td>\n",
       "      <td>fresh parsley</td>\n",
       "      <td>whipping cream</td>\n",
       "      <td>bay leaf</td>\n",
       "      <td>tomatoes</td>\n",
       "      <td>flat leaf parsley</td>\n",
       "      <td>whole milk</td>\n",
       "      <td>egg yolks</td>\n",
       "    </tr>\n",
       "    <tr>\n",
       "      <th>greek</th>\n",
       "      <td>dried oregano</td>\n",
       "      <td>feta cheese crumbles</td>\n",
       "      <td>fresh lemon juice</td>\n",
       "      <td>feta cheese</td>\n",
       "      <td>cucumber</td>\n",
       "      <td>tomatoes</td>\n",
       "      <td>fresh parsley</td>\n",
       "      <td>fresh dill</td>\n",
       "      <td>fresh oregano</td>\n",
       "      <td>greek yogurt</td>\n",
       "    </tr>\n",
       "    <tr>\n",
       "      <th>indian</th>\n",
       "      <td>garam masala</td>\n",
       "      <td>ground turmeric</td>\n",
       "      <td>cumin seed</td>\n",
       "      <td>ground cumin</td>\n",
       "      <td>tomatoes</td>\n",
       "      <td>tumeric</td>\n",
       "      <td>chili powder</td>\n",
       "      <td>green chilies</td>\n",
       "      <td>curry powder</td>\n",
       "      <td>fresh ginger</td>\n",
       "    </tr>\n",
       "    <tr>\n",
       "      <th>irish</th>\n",
       "      <td>baking soda</td>\n",
       "      <td>buttermilk</td>\n",
       "      <td>cabbage</td>\n",
       "      <td>fresh parsley</td>\n",
       "      <td>raisins</td>\n",
       "      <td>bacon</td>\n",
       "      <td>whole wheat flour</td>\n",
       "      <td>beer</td>\n",
       "      <td>russet potatoes</td>\n",
       "      <td>Irish whiskey</td>\n",
       "    </tr>\n",
       "    <tr>\n",
       "      <th>italian</th>\n",
       "      <td>grated parmesan cheese</td>\n",
       "      <td>fresh basil</td>\n",
       "      <td>dry white wine</td>\n",
       "      <td>fresh parsley</td>\n",
       "      <td>dried oregano</td>\n",
       "      <td>flat leaf parsley</td>\n",
       "      <td>tomatoes</td>\n",
       "      <td>fresh lemon juice</td>\n",
       "      <td>parmesan cheese</td>\n",
       "      <td>diced tomatoes</td>\n",
       "    </tr>\n",
       "    <tr>\n",
       "      <th>jamaican</th>\n",
       "      <td>ground allspice</td>\n",
       "      <td>dried thyme</td>\n",
       "      <td>coconut milk</td>\n",
       "      <td>thyme</td>\n",
       "      <td>soy sauce</td>\n",
       "      <td>curry powder</td>\n",
       "      <td>fresh thyme</td>\n",
       "      <td>ground nutmeg</td>\n",
       "      <td>lime juice</td>\n",
       "      <td>lime</td>\n",
       "    </tr>\n",
       "    <tr>\n",
       "      <th>japanese</th>\n",
       "      <td>soy sauce</td>\n",
       "      <td>mirin</td>\n",
       "      <td>sake</td>\n",
       "      <td>rice vinegar</td>\n",
       "      <td>sesame oil</td>\n",
       "      <td>dashi</td>\n",
       "      <td>fresh ginger</td>\n",
       "      <td>sesame seeds</td>\n",
       "      <td>corn starch</td>\n",
       "      <td>nori</td>\n",
       "    </tr>\n",
       "    <tr>\n",
       "      <th>korean</th>\n",
       "      <td>soy sauce</td>\n",
       "      <td>sesame oil</td>\n",
       "      <td>sesame seeds</td>\n",
       "      <td>Gochujang base</td>\n",
       "      <td>rice vinegar</td>\n",
       "      <td>kimchi</td>\n",
       "      <td>toasted sesame seeds</td>\n",
       "      <td>fresh ginger</td>\n",
       "      <td>toasted sesame oil</td>\n",
       "      <td>rice wine</td>\n",
       "    </tr>\n",
       "    <tr>\n",
       "      <th>mexican</th>\n",
       "      <td>ground cumin</td>\n",
       "      <td>chili powder</td>\n",
       "      <td>jalapeno chilies</td>\n",
       "      <td>sour cream</td>\n",
       "      <td>avocado</td>\n",
       "      <td>corn tortillas</td>\n",
       "      <td>chopped cilantro fresh</td>\n",
       "      <td>salsa</td>\n",
       "      <td>tomatoes</td>\n",
       "      <td>black beans</td>\n",
       "    </tr>\n",
       "    <tr>\n",
       "      <th>moroccan</th>\n",
       "      <td>ground cumin</td>\n",
       "      <td>couscous</td>\n",
       "      <td>ground coriander</td>\n",
       "      <td>chickpeas</td>\n",
       "      <td>fresh lemon juice</td>\n",
       "      <td>chopped cilantro fresh</td>\n",
       "      <td>tumeric</td>\n",
       "      <td>fresh parsley</td>\n",
       "      <td>dried apricot</td>\n",
       "      <td>tomatoes</td>\n",
       "    </tr>\n",
       "    <tr>\n",
       "      <th>russian</th>\n",
       "      <td>sour cream</td>\n",
       "      <td>beets</td>\n",
       "      <td>fresh dill</td>\n",
       "      <td>active dry yeast</td>\n",
       "      <td>cabbage</td>\n",
       "      <td>dill</td>\n",
       "      <td>raisins</td>\n",
       "      <td>powdered sugar</td>\n",
       "      <td>fresh parsley</td>\n",
       "      <td>egg yolks</td>\n",
       "    </tr>\n",
       "    <tr>\n",
       "      <th>southern_us</th>\n",
       "      <td>buttermilk</td>\n",
       "      <td>baking soda</td>\n",
       "      <td>chopped pecans</td>\n",
       "      <td>yellow corn meal</td>\n",
       "      <td>bacon</td>\n",
       "      <td>whole milk</td>\n",
       "      <td>hot sauce</td>\n",
       "      <td>cornmeal</td>\n",
       "      <td>peaches</td>\n",
       "      <td>worcestershire sauce</td>\n",
       "    </tr>\n",
       "    <tr>\n",
       "      <th>spanish</th>\n",
       "      <td>tomatoes</td>\n",
       "      <td>fresh parsley</td>\n",
       "      <td>saffron threads</td>\n",
       "      <td>dry white wine</td>\n",
       "      <td>flat leaf parsley</td>\n",
       "      <td>large garlic cloves</td>\n",
       "      <td>sherry vinegar</td>\n",
       "      <td>diced tomatoes</td>\n",
       "      <td>fresh lemon juice</td>\n",
       "      <td>chopped onion</td>\n",
       "    </tr>\n",
       "    <tr>\n",
       "      <th>thai</th>\n",
       "      <td>fish sauce</td>\n",
       "      <td>soy sauce</td>\n",
       "      <td>coconut milk</td>\n",
       "      <td>fresh lime juice</td>\n",
       "      <td>lime</td>\n",
       "      <td>lemongrass</td>\n",
       "      <td>lime juice</td>\n",
       "      <td>fresh ginger</td>\n",
       "      <td>cilantro leaves</td>\n",
       "      <td>chopped cilantro fresh</td>\n",
       "    </tr>\n",
       "    <tr>\n",
       "      <th>vietnamese</th>\n",
       "      <td>fish sauce</td>\n",
       "      <td>soy sauce</td>\n",
       "      <td>rice vinegar</td>\n",
       "      <td>beansprouts</td>\n",
       "      <td>lime juice</td>\n",
       "      <td>fresh lime juice</td>\n",
       "      <td>cucumber</td>\n",
       "      <td>lime</td>\n",
       "      <td>sesame oil</td>\n",
       "      <td>cilantro leaves</td>\n",
       "    </tr>\n",
       "  </tbody>\n",
       "</table>\n",
       "</div>"
      ],
      "text/plain": [
       "                                top1                  top2               top3  \\\n",
       "brazilian                       lime               cachaca           tomatoes   \n",
       "british                  baking soda        whipping cream         whole milk   \n",
       "cajun_creole         cajun seasoning           dried thyme  andouille sausage   \n",
       "chinese                    soy sauce            sesame oil        corn starch   \n",
       "filipino                   soy sauce            fish sauce       coconut milk   \n",
       "french             fresh lemon juice        dry white wine    large egg yolks   \n",
       "greek                  dried oregano  feta cheese crumbles  fresh lemon juice   \n",
       "indian                  garam masala       ground turmeric         cumin seed   \n",
       "irish                    baking soda            buttermilk            cabbage   \n",
       "italian       grated parmesan cheese           fresh basil     dry white wine   \n",
       "jamaican             ground allspice           dried thyme       coconut milk   \n",
       "japanese                   soy sauce                 mirin               sake   \n",
       "korean                     soy sauce            sesame oil       sesame seeds   \n",
       "mexican                 ground cumin          chili powder   jalapeno chilies   \n",
       "moroccan                ground cumin              couscous   ground coriander   \n",
       "russian                   sour cream                 beets         fresh dill   \n",
       "southern_us               buttermilk           baking soda     chopped pecans   \n",
       "spanish                     tomatoes         fresh parsley    saffron threads   \n",
       "thai                      fish sauce             soy sauce       coconut milk   \n",
       "vietnamese                fish sauce             soy sauce       rice vinegar   \n",
       "\n",
       "                              top4                      top5  \\\n",
       "brazilian             coconut milk  sweetened condensed milk   \n",
       "british       worcestershire sauce                   raisins   \n",
       "cajun_creole      creole seasoning                    shrimp   \n",
       "chinese               rice vinegar              fresh ginger   \n",
       "filipino                   vinegar               corn starch   \n",
       "french               fresh parsley            whipping cream   \n",
       "greek                  feta cheese                  cucumber   \n",
       "indian                ground cumin                  tomatoes   \n",
       "irish                fresh parsley                   raisins   \n",
       "italian              fresh parsley             dried oregano   \n",
       "jamaican                     thyme                 soy sauce   \n",
       "japanese              rice vinegar                sesame oil   \n",
       "korean              Gochujang base              rice vinegar   \n",
       "mexican                 sour cream                   avocado   \n",
       "moroccan                 chickpeas         fresh lemon juice   \n",
       "russian           active dry yeast                   cabbage   \n",
       "southern_us       yellow corn meal                     bacon   \n",
       "spanish             dry white wine         flat leaf parsley   \n",
       "thai              fresh lime juice                      lime   \n",
       "vietnamese             beansprouts                lime juice   \n",
       "\n",
       "                                top6                    top7  \\\n",
       "brazilian                black beans                     ice   \n",
       "british                ground nutmeg               egg yolks   \n",
       "cajun_creole           fresh parsley    worcestershire sauce   \n",
       "chinese                 oyster sauce            hoisin sauce   \n",
       "filipino                    tomatoes                    pork   \n",
       "french                      bay leaf                tomatoes   \n",
       "greek                       tomatoes           fresh parsley   \n",
       "indian                       tumeric            chili powder   \n",
       "irish                          bacon       whole wheat flour   \n",
       "italian            flat leaf parsley                tomatoes   \n",
       "jamaican                curry powder             fresh thyme   \n",
       "japanese                       dashi            fresh ginger   \n",
       "korean                        kimchi    toasted sesame seeds   \n",
       "mexican               corn tortillas  chopped cilantro fresh   \n",
       "moroccan      chopped cilantro fresh                 tumeric   \n",
       "russian                         dill                 raisins   \n",
       "southern_us               whole milk               hot sauce   \n",
       "spanish          large garlic cloves          sherry vinegar   \n",
       "thai                      lemongrass              lime juice   \n",
       "vietnamese          fresh lime juice                cucumber   \n",
       "\n",
       "                           top8                top9                   top10  \n",
       "brazilian            lime juice      fresh cilantro        fresh lime juice  \n",
       "british             plain flour      powdered sugar         large egg yolks  \n",
       "cajun_creole     diced tomatoes         celery ribs               hot sauce  \n",
       "chinese              peanut oil       Shaoxing wine         light soy sauce  \n",
       "filipino            ground pork             cabbage                 chicken  \n",
       "french        flat leaf parsley          whole milk               egg yolks  \n",
       "greek                fresh dill       fresh oregano            greek yogurt  \n",
       "indian            green chilies        curry powder            fresh ginger  \n",
       "irish                      beer     russet potatoes           Irish whiskey  \n",
       "italian       fresh lemon juice     parmesan cheese          diced tomatoes  \n",
       "jamaican          ground nutmeg          lime juice                    lime  \n",
       "japanese           sesame seeds         corn starch                    nori  \n",
       "korean             fresh ginger  toasted sesame oil               rice wine  \n",
       "mexican                   salsa            tomatoes             black beans  \n",
       "moroccan          fresh parsley       dried apricot                tomatoes  \n",
       "russian          powdered sugar       fresh parsley               egg yolks  \n",
       "southern_us            cornmeal             peaches    worcestershire sauce  \n",
       "spanish          diced tomatoes   fresh lemon juice           chopped onion  \n",
       "thai               fresh ginger     cilantro leaves  chopped cilantro fresh  \n",
       "vietnamese                 lime          sesame oil         cilantro leaves  "
      ]
     },
     "execution_count": 117,
     "metadata": {},
     "output_type": "execute_result"
    }
   ],
   "source": [
    "top10 = Series()\n",
    "\n",
    "for cuisine, list_ingredients in all_ingredient_by_cuisine_count.items():\n",
    "    top10.loc[cuisine] = []\n",
    "    for ingredient, occurrence in Series(list_ingredients)[:10].items():\n",
    "        top10.loc[cuisine].append(ingredient)\n",
    "\n",
    "\n",
    "df_top10 = DataFrame.from_items(zip(top10.index, top10.values)).T\n",
    "df_top10.columns = ['top{}'.format(i) for i in range(1, 11)]\n",
    "df_top10"
   ]
  },
  {
   "cell_type": "markdown",
   "metadata": {},
   "source": [
    "## Investigates ingredients that contain a cuisine name in its name\n",
    "Now that the common ingredients have been identified and removed from the dataset and all other variables have been updated, we will now broaden our search for more ingredients to be eliminated since the 86 indentified so far doesn't do much to mitigate the dimensionality problem.\n",
    "\n",
    "### Find same name ingredients\n",
    "After noticing that many ingredientes share the name of a cuisine, I decided to investigate those ingredientes and the cuisines where they are used to verify their occurrence and try to determine if they can perhaps be strong cuisine predictors. "
   ]
  },
  {
   "cell_type": "code",
   "execution_count": 118,
   "metadata": {},
   "outputs": [],
   "source": [
    "# Finds the cuisines with same name ingredients \n",
    "all_ingredients_same_name_cuisine = Series()\n",
    "\n",
    "for cuisine, list_ingredients in all_ingredients_cuisine.items():\n",
    "    all_ingredients_same_name_cuisine.loc[cuisine] = all_ingredients_same_name_cuisine.get(cuisine, [])\n",
    "    for ingredient in list_ingredients:\n",
    "        if cuisine in ingredient:\n",
    "            all_ingredients_same_name_cuisine.loc[cuisine].append(ingredient)"
   ]
  },
  {
   "cell_type": "code",
   "execution_count": 119,
   "metadata": {},
   "outputs": [
    {
     "data": {
      "text/plain": [
       "brazilian                                                      []\n",
       "british                                                        []\n",
       "cajun_creole                                                   []\n",
       "chinese         [chinese rice wine, chinese five-spice powder,...\n",
       "filipino                                      [filipino eggplant]\n",
       "french          [french baguette, french bread, french toast, ...\n",
       "greek           [greek yogurt, nonfat greek yogurt, greek seas...\n",
       "indian                                                         []\n",
       "irish           [irish cream liqueur, irish cream liqueur, iri...\n",
       "italian         [italian seasoning, italian seasoning, italian...\n",
       "jamaican        [jamaican rum, jamaican jerk season, jamaican ...\n",
       "japanese        [japanese cucumber, japanese cucumber, japanes...\n",
       "korean          [korean chile paste, korean chile paste, korea...\n",
       "mexican         [crema mexicana, fresh mexican cheese, mexican...\n",
       "moroccan                 [moroccan seasoning, moroccan seasoning]\n",
       "russian                                        [red russian kale]\n",
       "southern_us                                                    []\n",
       "spanish         [spanish chorizo, spanish rice, spanish onion,...\n",
       "thai            [thai basil, thai basil, thai chile, thai basi...\n",
       "vietnamese      [vietnamese fish sauce, vietnamese fish sauce,...\n",
       "dtype: object"
      ]
     },
     "execution_count": 119,
     "metadata": {},
     "output_type": "execute_result"
    }
   ],
   "source": [
    "all_ingredients_same_name_cuisine"
   ]
  },
  {
   "cell_type": "markdown",
   "metadata": {},
   "source": [
    "### Count occurrences of all same name ingredient per cuisine"
   ]
  },
  {
   "cell_type": "code",
   "execution_count": 120,
   "metadata": {},
   "outputs": [
    {
     "data": {
      "text/plain": [
       "brazilian         0\n",
       "british           0\n",
       "cajun_creole      0\n",
       "chinese         459\n",
       "filipino          1\n",
       "french           58\n",
       "greek           163\n",
       "indian            0\n",
       "irish            19\n",
       "italian         620\n",
       "jamaican         33\n",
       "japanese         41\n",
       "korean           12\n",
       "mexican         106\n",
       "moroccan          2\n",
       "russian           1\n",
       "southern_us       0\n",
       "spanish          66\n",
       "thai            207\n",
       "vietnamese       21\n",
       "dtype: int64"
      ]
     },
     "execution_count": 120,
     "metadata": {},
     "output_type": "execute_result"
    }
   ],
   "source": [
    "# Counts the number of recipes(occurrences) in which same cuisine/ingredients name appear\n",
    "all_ingredients_same_name_cuisine.apply(len)"
   ]
  },
  {
   "cell_type": "code",
   "execution_count": 121,
   "metadata": {},
   "outputs": [
    {
     "data": {
      "text/plain": [
       "1809"
      ]
     },
     "execution_count": 121,
     "metadata": {},
     "output_type": "execute_result"
    }
   ],
   "source": [
    "# Number of recipes with same name ingredient\n",
    "all_ingredients_same_name_cuisine.apply(len).sum(axis=0)"
   ]
  },
  {
   "cell_type": "markdown",
   "metadata": {},
   "source": [
    "### Count occurrences of each same name ingredient"
   ]
  },
  {
   "cell_type": "code",
   "execution_count": 122,
   "metadata": {},
   "outputs": [
    {
     "data": {
      "text/plain": [
       "brazilian                                                      {}\n",
       "british                                                        {}\n",
       "cajun_creole                                                   {}\n",
       "chinese         {'chinese five-spice powder': 187, 'chinese ri...\n",
       "filipino                                 {'filipino eggplant': 1}\n",
       "french          {'french bread': 43, 'french baguette': 9, 'fr...\n",
       "greek           {'greek yogurt': 65, 'greek style plain yogurt...\n",
       "indian                                                         {}\n",
       "irish           {'irish cream liqueur': 13, 'irish bacon': 5, ...\n",
       "italian         {'italian seasoning': 273, 'italian sausage': ...\n",
       "jamaican        {'jamaican jerk season': 18, 'jamaican rum': 5...\n",
       "japanese        {'japanese rice': 16, 'japanese eggplants': 15...\n",
       "korean          {'korean chile paste': 8, 'korean chile': 2, '...\n",
       "mexican         {'mexican chorizo': 27, 'mexican chocolate': 2...\n",
       "moroccan                                {'moroccan seasoning': 2}\n",
       "russian                                   {'red russian kale': 1}\n",
       "southern_us                                                    {}\n",
       "spanish         {'spanish chorizo': 33, 'spanish paprika': 20,...\n",
       "thai            {'thai basil': 85, 'thai chile': 74, 'thai gre...\n",
       "vietnamese      {'vietnamese fish sauce': 19, 'vietnamese rice...\n",
       "dtype: object"
      ]
     },
     "execution_count": 122,
     "metadata": {},
     "output_type": "execute_result"
    }
   ],
   "source": [
    "all_ingredients_same_name_cuisine_count = all_ingredients_same_name_cuisine.apply(count_occ)\n",
    "\n",
    "all_ingredients_same_name_cuisine_count"
   ]
  },
  {
   "cell_type": "markdown",
   "metadata": {},
   "source": [
    "### Unique same name ingredients by cuisine"
   ]
  },
  {
   "cell_type": "code",
   "execution_count": 123,
   "metadata": {},
   "outputs": [
    {
     "data": {
      "text/plain": [
       "brazilian                                                      []\n",
       "british                                                        []\n",
       "cajun_creole                                                   []\n",
       "chinese         [chinese celery cabbage, chinese cinnamon, chi...\n",
       "filipino                                      [filipino eggplant]\n",
       "french          [french sandwich rolls, french baguette, frenc...\n",
       "greek           [greek seasoning, greek style plain yogurt, fe...\n",
       "indian                                                         []\n",
       "irish              [irish bacon, irish oats, irish cream liqueur]\n",
       "italian         [sweet italian sausage, country style italian ...\n",
       "jamaican        [jamaican rum, jamaican pumpkin, jamaican curr...\n",
       "japanese        [japanese radish, japanese rice, japanese cucu...\n",
       "korean          [korean chile paste, korean chile, korean buck...\n",
       "mexican         [crema mexican, mexican style 4 cheese blend, ...\n",
       "moroccan                                     [moroccan seasoning]\n",
       "russian                                        [red russian kale]\n",
       "southern_us                                                    []\n",
       "spanish         [spanish paprika, spanish chorizo, spanish oni...\n",
       "thai            [thai noodles, thai basil, thai chile, thai gr...\n",
       "vietnamese         [vietnamese rice paper, vietnamese fish sauce]\n",
       "dtype: object"
      ]
     },
     "execution_count": 123,
     "metadata": {},
     "output_type": "execute_result"
    }
   ],
   "source": [
    "#Lists of unique cuisine/ingredients names\n",
    "unique_ingredients_same_name_cuisine = all_ingredients_same_name_cuisine.apply(remove_duplicates)\n",
    "unique_ingredients_same_name_cuisine"
   ]
  },
  {
   "cell_type": "markdown",
   "metadata": {},
   "source": [
    "### Count number of unique same name ingredient per cuisine"
   ]
  },
  {
   "cell_type": "code",
   "execution_count": 124,
   "metadata": {},
   "outputs": [
    {
     "data": {
      "text/plain": [
       "brazilian        0\n",
       "british          0\n",
       "cajun_creole     0\n",
       "chinese         31\n",
       "filipino         1\n",
       "french           7\n",
       "greek           15\n",
       "indian           0\n",
       "irish            3\n",
       "italian         38\n",
       "jamaican         6\n",
       "japanese         5\n",
       "korean           4\n",
       "mexican          7\n",
       "moroccan         1\n",
       "russian          1\n",
       "southern_us      0\n",
       "spanish          5\n",
       "thai             5\n",
       "vietnamese       2\n",
       "dtype: int64"
      ]
     },
     "execution_count": 124,
     "metadata": {},
     "output_type": "execute_result"
    },
    {
     "name": "stdout",
     "output_type": "stream",
     "text": [
      "\n",
      "There are 131 instances of same cuisine/ingredient name.\n"
     ]
    }
   ],
   "source": [
    "# Number of unique ingredients per cuisine\n",
    "unique_ingredients_same_name_cuisine.apply(len)\n",
    "print(\"\")\n",
    "\n",
    "# Total occurrences of same cuisine/ingredient name\n",
    "print('There are ' + str(all_ingredients_same_name_cuisine_count.apply(len).sum()) + ' instances of same cuisine/ingredient name.')"
   ]
  },
  {
   "cell_type": "markdown",
   "metadata": {},
   "source": [
    "### Unique same name ingredients "
   ]
  },
  {
   "cell_type": "code",
   "execution_count": 125,
   "metadata": {},
   "outputs": [
    {
     "name": "stdout",
     "output_type": "stream",
     "text": [
      "Stored 'unique_same_name_ingredients' (Series)\n"
     ]
    },
    {
     "data": {
      "text/plain": [
       "0       chinese celery cabbage\n",
       "1             chinese cinnamon\n",
       "2               chinese turnip\n",
       "3               chinese chives\n",
       "4    chinese five-spice powder\n",
       "5          chinese chili paste\n",
       "6             chinese pea pods\n",
       "7            chinese eggplants\n",
       "8           chinese plum sauce\n",
       "9           chinese roast pork\n",
       "dtype: object"
      ]
     },
     "execution_count": 125,
     "metadata": {},
     "output_type": "execute_result"
    },
    {
     "name": "stdout",
     "output_type": "stream",
     "text": [
      "There are 131 unique_ingredients.\n"
     ]
    }
   ],
   "source": [
    "# Get unique same name ingredients\n",
    "unique_same_name_ingredients = Series(get_ingredients(unique_ingredients_same_name_cuisine).unique())\n",
    "%store unique_same_name_ingredients\n",
    "\n",
    "unique_same_name_ingredients[:10]\n",
    "\n",
    "print('There are ' + str(len(unique_same_name_ingredients)) + ' unique_ingredients.')"
   ]
  },
  {
   "cell_type": "markdown",
   "metadata": {},
   "source": [
    "### Number of times each same name ingredient appear in a cuisine"
   ]
  },
  {
   "cell_type": "code",
   "execution_count": 126,
   "metadata": {},
   "outputs": [
    {
     "data": {
      "text/plain": [
       "chinese celery cabbage                                          {'chinese': 1}\n",
       "chinese cinnamon                               {'chinese': 1, 'vietnamese': 1}\n",
       "chinese turnip                                       {'chinese': 1, 'thai': 1}\n",
       "chinese chives               {'chinese': 14, 'japanese': 1, 'korean': 6, 't...\n",
       "chinese five-spice powder    {'chinese': 187, 'filipino': 1, 'indian': 1, '...\n",
       "chinese chili paste                                             {'chinese': 1}\n",
       "chinese pea pods                                                {'chinese': 1}\n",
       "chinese eggplants            {'chinese': 6, 'filipino': 1, 'japanese': 1, '...\n",
       "chinese plum sauce                                              {'chinese': 3}\n",
       "chinese roast pork                                              {'chinese': 3}\n",
       "dtype: object"
      ]
     },
     "execution_count": 126,
     "metadata": {},
     "output_type": "execute_result"
    }
   ],
   "source": [
    "# Number of times each same name ingredient appear in a cuisine\n",
    "\n",
    "cuisines_count_per_same_name_ingredient = number_cuisine_per_ingredient(unique_same_name_ingredients)\n",
    "\n",
    "cuisines_count_per_same_name_ingredient[:10]"
   ]
  },
  {
   "cell_type": "markdown",
   "metadata": {},
   "source": [
    "### Unique Cuisines Each same name Ingredient Appears"
   ]
  },
  {
   "cell_type": "code",
   "execution_count": 127,
   "metadata": {},
   "outputs": [
    {
     "data": {
      "text/plain": [
       "chinese celery cabbage                                               [chinese]\n",
       "chinese cinnamon                                         [chinese, vietnamese]\n",
       "chinese turnip                                                 [chinese, thai]\n",
       "chinese chives                   [chinese, japanese, korean, thai, vietnamese]\n",
       "chinese five-spice powder    [chinese, filipino, indian, italian, jamaican,...\n",
       "chinese chili paste                                                  [chinese]\n",
       "chinese pea pods                                                     [chinese]\n",
       "chinese eggplants                    [chinese, filipino, japanese, vietnamese]\n",
       "chinese plum sauce                                                   [chinese]\n",
       "chinese roast pork                                                   [chinese]\n",
       "dtype: object"
      ]
     },
     "execution_count": 127,
     "metadata": {},
     "output_type": "execute_result"
    }
   ],
   "source": [
    "# Checks in how many other cuisines the same name cuisine-ingredients appear\n",
    "\n",
    "# Get name of cuisine from dictionary with frequency in which they appear\n",
    "cuisines_per_same_name_ingredient = cuisines_count_per_same_name_ingredient.apply(extract_cuisine)\n",
    "\n",
    "cuisines_per_same_name_ingredient[:10]"
   ]
  },
  {
   "cell_type": "markdown",
   "metadata": {},
   "source": [
    "### Number of Unique Cuisines Each Ingredient Appears"
   ]
  },
  {
   "cell_type": "code",
   "execution_count": 128,
   "metadata": {},
   "outputs": [
    {
     "data": {
      "text/plain": [
       "chinese celery cabbage       1\n",
       "chinese cinnamon             2\n",
       "chinese turnip               2\n",
       "chinese chives               5\n",
       "chinese five-spice powder    8\n",
       "chinese chili paste          1\n",
       "chinese pea pods             1\n",
       "chinese eggplants            4\n",
       "chinese plum sauce           1\n",
       "chinese roast pork           1\n",
       "dtype: int64"
      ]
     },
     "execution_count": 128,
     "metadata": {},
     "output_type": "execute_result"
    }
   ],
   "source": [
    "# Number of cuisine each same name cuisine appears (first 10 ingredients)\n",
    "cuisines_per_same_name_ingredient.apply(len)[:10]"
   ]
  },
  {
   "cell_type": "markdown",
   "metadata": {},
   "source": [
    "## Conclusions\n",
    "After investigating the same name ingredients, it was discovered that there are only 131 of such ingredients being used in just 1809 recipes. A subset of the dataset could be created to investigate further and check if they are good cuisine predictors. But because they are so few compared to the size of the dataset, their impact in the overall accuracy of a model will probably not be very significant regardless of how good they are. Besides they will also not solve the dimensionality problem. Therefore, instead of digging deeper on them, I decided to change the strategy and apply the PCA dimensionality reduction technique to address to reduce the number of attributes in the dataset. The `PCAModel.ipynb` notebook will demonstrate step by step how this was done."
   ]
  }
 ],
 "metadata": {
  "kernelspec": {
   "display_name": "Python [conda env:data3]",
   "language": "python",
   "name": "conda-env-data3-py"
  },
  "language_info": {
   "codemirror_mode": {
    "name": "ipython",
    "version": 3
   },
   "file_extension": ".py",
   "mimetype": "text/x-python",
   "name": "python",
   "nbconvert_exporter": "python",
   "pygments_lexer": "ipython3",
   "version": "3.6.7"
  }
 },
 "nbformat": 4,
 "nbformat_minor": 2
}
