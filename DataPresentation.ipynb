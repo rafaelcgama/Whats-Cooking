{
 "cells": [
  {
   "cell_type": "markdown",
   "metadata": {},
   "source": [
    "# **Data Presentation**\n",
    "First, lets explore the dataset a bit so we can see how the ingredients are distributed across the cuisines, the most popular ingredients in the dataset and by cuisine and other more obvious characteristics of the dataset.\n",
    "\n",
    "\n",
    "### Load dataset"
   ]
  },
  {
   "cell_type": "code",
   "execution_count": 1,
   "metadata": {},
   "outputs": [
    {
     "name": "stdout",
     "output_type": "stream",
     "text": [
      "<class 'pandas.core.frame.DataFrame'>\n",
      "RangeIndex: 39774 entries, 0 to 39773\n",
      "Data columns (total 3 columns):\n",
      "cuisine        39774 non-null object\n",
      "id             39774 non-null int64\n",
      "ingredients    39774 non-null object\n",
      "dtypes: int64(1), object(2)\n",
      "memory usage: 932.3+ KB\n"
     ]
    }
   ],
   "source": [
    "import pandas as pd\n",
    "from pandas import DataFrame, Series\n",
    "import matplotlib.pyplot as plt\n",
    "from matplotlib import rcParams\n",
    "import seaborn as sb\n",
    "import numpy as np\n",
    "from IPython.core.interactiveshell import InteractiveShell\n",
    "InteractiveShell.ast_node_interactivity = \"all\"\n",
    "rcParams['figure.figsize'] = 11,8\n",
    "#%matplotlib inline\n",
    "sb.set_style('whitegrid')\n",
    "#plt.style.use('dark_background')\n",
    "\n",
    "df_original = pd.read_json('dataset/train.json')\n",
    "df_original.info()"
   ]
  },
  {
   "cell_type": "code",
   "execution_count": 2,
   "metadata": {},
   "outputs": [
    {
     "data": {
      "text/html": [
       "<div>\n",
       "<style scoped>\n",
       "    .dataframe tbody tr th:only-of-type {\n",
       "        vertical-align: middle;\n",
       "    }\n",
       "\n",
       "    .dataframe tbody tr th {\n",
       "        vertical-align: top;\n",
       "    }\n",
       "\n",
       "    .dataframe thead th {\n",
       "        text-align: right;\n",
       "    }\n",
       "</style>\n",
       "<table border=\"1\" class=\"dataframe\">\n",
       "  <thead>\n",
       "    <tr style=\"text-align: right;\">\n",
       "      <th></th>\n",
       "      <th>cuisine</th>\n",
       "      <th>id</th>\n",
       "      <th>ingredients</th>\n",
       "    </tr>\n",
       "  </thead>\n",
       "  <tbody>\n",
       "    <tr>\n",
       "      <th>0</th>\n",
       "      <td>greek</td>\n",
       "      <td>10259</td>\n",
       "      <td>[romaine lettuce, black olives, grape tomatoes...</td>\n",
       "    </tr>\n",
       "    <tr>\n",
       "      <th>1</th>\n",
       "      <td>southern_us</td>\n",
       "      <td>25693</td>\n",
       "      <td>[plain flour, ground pepper, salt, tomatoes, g...</td>\n",
       "    </tr>\n",
       "    <tr>\n",
       "      <th>2</th>\n",
       "      <td>filipino</td>\n",
       "      <td>20130</td>\n",
       "      <td>[eggs, pepper, salt, mayonaise, cooking oil, g...</td>\n",
       "    </tr>\n",
       "    <tr>\n",
       "      <th>3</th>\n",
       "      <td>indian</td>\n",
       "      <td>22213</td>\n",
       "      <td>[water, vegetable oil, wheat, salt]</td>\n",
       "    </tr>\n",
       "    <tr>\n",
       "      <th>4</th>\n",
       "      <td>indian</td>\n",
       "      <td>13162</td>\n",
       "      <td>[black pepper, shallots, cornflour, cayenne pe...</td>\n",
       "    </tr>\n",
       "  </tbody>\n",
       "</table>\n",
       "</div>"
      ],
      "text/plain": [
       "       cuisine     id                                        ingredients\n",
       "0        greek  10259  [romaine lettuce, black olives, grape tomatoes...\n",
       "1  southern_us  25693  [plain flour, ground pepper, salt, tomatoes, g...\n",
       "2     filipino  20130  [eggs, pepper, salt, mayonaise, cooking oil, g...\n",
       "3       indian  22213                [water, vegetable oil, wheat, salt]\n",
       "4       indian  13162  [black pepper, shallots, cornflour, cayenne pe..."
      ]
     },
     "execution_count": 2,
     "metadata": {},
     "output_type": "execute_result"
    },
    {
     "data": {
      "text/plain": [
       "(39774, 3)"
      ]
     },
     "execution_count": 2,
     "metadata": {},
     "output_type": "execute_result"
    }
   ],
   "source": [
    "df_original.head()\n",
    "df_original.shape"
   ]
  },
  {
   "cell_type": "markdown",
   "metadata": {},
   "source": [
    "### Number of recipes per cuisine\n"
   ]
  },
  {
   "cell_type": "code",
   "execution_count": 3,
   "metadata": {},
   "outputs": [
    {
     "data": {
      "text/plain": [
       "Text(0.5, 0, 'Ingredient')"
      ]
     },
     "execution_count": 3,
     "metadata": {},
     "output_type": "execute_result"
    },
    {
     "data": {
      "text/plain": [
       "Text(0, 0.5, 'Number of recipes')"
      ]
     },
     "execution_count": 3,
     "metadata": {},
     "output_type": "execute_result"
    },
    {
     "data": {
      "text/plain": [
       "Text(0.5, 1.0, 'Number of recipes per cuisine')"
      ]
     },
     "execution_count": 3,
     "metadata": {},
     "output_type": "execute_result"
    },
    {
     "data": {
      "image/png": "[encoded data removed]",
      "text/plain": [
       "<Figure size 432x288 with 1 Axes>"
      ]
     },
     "metadata": {
      "needs_background": "light"
     },
     "output_type": "display_data"
    }
   ],
   "source": [
    "# Number of recipes per cuisine\n",
    "number_recipe_cuisine = df_original['cuisine'].value_counts()\n",
    "\n",
    "# Plots graph\n",
    "ax = number_recipe_cuisine.plot(kind='bar', rot=45, fontsize=12)\n",
    "ax.set_xlabel('Ingredient', fontsize=13)\n",
    "ax.set_ylabel('Number of recipes', fontsize=13)\n",
    "ax.set_title('Number of recipes per cuisine', fontsize=17)"
   ]
  },
  {
   "cell_type": "markdown",
   "metadata": {},
   "source": [
    "### Histogram of recipe size"
   ]
  },
  {
   "cell_type": "code",
   "execution_count": 4,
   "metadata": {},
   "outputs": [
    {
     "data": {
      "text/plain": [
       "Text(0.5, 0, 'Recipe size')"
      ]
     },
     "execution_count": 4,
     "metadata": {},
     "output_type": "execute_result"
    },
    {
     "data": {
      "text/plain": [
       "Text(0, 0.5, 'Occurrences')"
      ]
     },
     "execution_count": 4,
     "metadata": {},
     "output_type": "execute_result"
    },
    {
     "data": {
      "text/plain": [
       "Text(0.5, 1.0, 'Histogram of recipe size')"
      ]
     },
     "execution_count": 4,
     "metadata": {},
     "output_type": "execute_result"
    },
    {
     "data": {
      "image/png": "[encoded data removed]",
      "text/plain": [
       "<Figure size 432x288 with 1 Axes>"
      ]
     },
     "metadata": {
      "needs_background": "light"
     },
     "output_type": "display_data"
    }
   ],
   "source": [
    "# Distribution of number of ingredients per recipe\n",
    "size_recipe = df_original['ingredients'].apply(len)\n",
    "\n",
    "# Plots graph\n",
    "ax = size_recipe.hist(bins=20)\n",
    "ax.set_xlabel('Recipe size', fontsize=13)\n",
    "ax.set_ylabel('Occurrences', fontsize=13)\n",
    "ax.set_title('Histogram of recipe size', fontsize=17)"
   ]
  },
  {
   "cell_type": "markdown",
   "metadata": {},
   "source": [
    "### Most occurring ingredients in all recipes"
   ]
  },
  {
   "cell_type": "code",
   "execution_count": 130,
   "metadata": {},
   "outputs": [
    {
     "data": {
      "text/plain": [
       "Text(0.5,0,'Occurrences')"
      ]
     },
     "execution_count": 130,
     "metadata": {},
     "output_type": "execute_result"
    },
    {
     "data": {
      "text/plain": [
       "Text(0,0.5,'Ingredients')"
      ]
     },
     "execution_count": 130,
     "metadata": {},
     "output_type": "execute_result"
    },
    {
     "data": {
      "text/plain": [
       "Text(0.5,1,'Most common ingredients')"
      ]
     },
     "execution_count": 130,
     "metadata": {},
     "output_type": "execute_result"
    },
    {
     "data": {
      "image/png": "[encoded data removed]",
      "text/plain": [
       "<Figure size 792x576 with 1 Axes>"
      ]
     },
     "metadata": {},
     "output_type": "display_data"
    }
   ],
   "source": [
    "# Top 10 most occurring ingredients\n",
    "from Methods import get_ingredients\n",
    "\n",
    "all_ingredients = get_ingredients(df_original[\"ingredients\"])\n",
    "ax = all_ingredients.value_counts()[:10].sort_values(ascending=True).plot(kind='barh', fontsize=13)\n",
    "ax.set_xlabel('Occurrences', fontsize=13)\n",
    "ax.set_ylabel('Ingredients', fontsize=13)\n",
    "ax.set_title('Most common ingredients', fontsize=17)\n",
    "plt.savefig('common_ingredients')"
   ]
  },
  {
   "cell_type": "markdown",
   "metadata": {},
   "source": [
    "### Groups ingredients by cuisine"
   ]
  },
  {
   "cell_type": "code",
   "execution_count": 113,
   "metadata": {},
   "outputs": [
    {
     "data": {
      "text/plain": [
       "cuisine\n",
       "brazilian       [ice cubes, club soda, white rum, lime, turbin...\n",
       "british         [greek yogurt, lemon curd, confectioners sugar...\n",
       "cajun_creole    [herbs, lemon juice, fresh tomatoes, paprika, ...\n",
       "chinese         [low sodium soy sauce, fresh ginger, dry musta...\n",
       "filipino        [eggs, pepper, salt, mayonaise, cooking oil, g...\n",
       "french          [sugar, salt, fennel bulb, water, lemon olive ...\n",
       "greek           [romaine lettuce, black olives, grape tomatoes...\n",
       "indian          [water, vegetable oil, wheat, salt, black pepp...\n",
       "irish           [cooking spray, salt, black pepper, yukon gold...\n",
       "italian         [sugar, pistachio nuts, white almond bark, flo...\n",
       "jamaican        [plain flour, sugar, butter, eggs, fresh ginge...\n",
       "japanese        [sirloin, mirin, yellow onion, low sodium soy ...\n",
       "korean          [jasmine rice, garlic, scallions, sugar, shiit...\n",
       "mexican         [olive oil, purple onion, fresh pineapple, por...\n",
       "moroccan        [ground cloves, whole nutmegs, ground ginger, ...\n",
       "russian         [water, grits, mozzarella cheese, salt, water,...\n",
       "southern_us     [plain flour, ground pepper, salt, tomatoes, g...\n",
       "spanish         [olive oil, salt, medium shrimp, pepper, garli...\n",
       "thai            [sugar, hot chili, asian fish sauce, lime juic...\n",
       "vietnamese      [soy sauce, vegetable oil, red bell pepper, ch...\n",
       "Name: ingredients, dtype: object"
      ]
     },
     "execution_count": 113,
     "metadata": {},
     "output_type": "execute_result"
    }
   ],
   "source": [
    "# Group all ingredients by cuisine\n",
    "all_ingredients_cuisine = df_original.groupby('cuisine')['ingredients'].sum()\n",
    "\n",
    "all_ingredients_cuisine"
   ]
  },
  {
   "cell_type": "markdown",
   "metadata": {},
   "source": [
    "### Count the number of times each ingredient appears in each cuisine"
   ]
  },
  {
   "cell_type": "code",
   "execution_count": 114,
   "metadata": {},
   "outputs": [
    {
     "data": {
      "text/plain": [
       "cuisine\n",
       "brazilian       {'salt': 194, 'onions': 133, 'olive oil': 118,...\n",
       "british         {'salt': 407, 'all-purpose flour': 238, 'butte...\n",
       "cajun_creole    {'salt': 743, 'onions': 529, 'garlic': 370, 'g...\n",
       "chinese         {'soy sauce': 1363, 'sesame oil': 915, 'salt':...\n",
       "filipino        {'salt': 421, 'garlic': 325, 'onions': 310, 'w...\n",
       "french          {'salt': 1203, 'sugar': 637, 'all-purpose flou...\n",
       "greek           {'salt': 572, 'olive oil': 504, 'dried oregano...\n",
       "indian          {'salt': 1934, 'onions': 1195, 'garam masala':...\n",
       "irish           {'salt': 376, 'all-purpose flour': 219, 'butte...\n",
       "italian         {'salt': 3454, 'olive oil': 3111, 'garlic clov...\n",
       "jamaican        {'salt': 332, 'onions': 173, 'water': 153, 'ga...\n",
       "japanese        {'soy sauce': 561, 'salt': 422, 'mirin': 402, ...\n",
       "korean          {'soy sauce': 427, 'sesame oil': 403, 'garlic'...\n",
       "mexican         {'salt': 2720, 'onions': 1493, 'ground cumin':...\n",
       "moroccan        {'salt': 413, 'olive oil': 412, 'ground cumin'...\n",
       "russian         {'salt': 288, 'sugar': 155, 'onions': 145, 'al...\n",
       "southern_us     {'salt': 2290, 'butter': 1255, 'all-purpose fl...\n",
       "spanish         {'salt': 460, 'olive oil': 387, 'garlic cloves...\n",
       "thai            {'fish sauce': 625, 'garlic': 414, 'salt': 396...\n",
       "vietnamese      {'fish sauce': 392, 'sugar': 344, 'salt': 264,...\n",
       "Name: ingredients, dtype: object"
      ]
     },
     "execution_count": 114,
     "metadata": {},
     "output_type": "execute_result"
    }
   ],
   "source": [
    "def count_occ(group):\n",
    "    return dict(Series(group).value_counts())\n",
    "\n",
    "ingredient_count_by_cuisine = all_ingredients_cuisine.apply(count_occ)\n",
    "\n",
    "ingredient_count_by_cuisine"
   ]
  },
  {
   "cell_type": "markdown",
   "metadata": {},
   "source": [
    "### Unique ingredients by cuisine"
   ]
  },
  {
   "cell_type": "code",
   "execution_count": 115,
   "metadata": {},
   "outputs": [
    {
     "data": {
      "text/plain": [
       "cuisine\n",
       "brazilian       [chopped cilantro fresh, biscuits, pig, white ...\n",
       "british         [topside steak, honey mustard, low-fat vanilla...\n",
       "cajun_creole    [chopped cilantro fresh, crushed pineapple, hu...\n",
       "chinese         [chopped cilantro fresh, plum jam, greens, egg...\n",
       "filipino        [crushed pineapple, pig, greens, nonstick spra...\n",
       "french          [chopped cilantro fresh, hungarian paprika, gr...\n",
       "greek           [chopped cilantro fresh, dried mint flakes, hu...\n",
       "indian          [chopped cilantro fresh, crushed pineapple, hu...\n",
       "irish           [chopped cilantro fresh, dried mint flakes, gr...\n",
       "italian         [chopped cilantro fresh, crushed pineapple, hu...\n",
       "jamaican        [chopped cilantro fresh, crushed pineapple, pi...\n",
       "japanese        [chopped cilantro fresh, golden delicious appl...\n",
       "korean          [chopped cilantro fresh, shredded nori, greens...\n",
       "mexican         [chopped cilantro fresh, crushed pineapple, di...\n",
       "moroccan        [chopped cilantro fresh, dried mint flakes, hu...\n",
       "russian         [hungarian paprika, pig, golden delicious appl...\n",
       "southern_us     [chopped cilantro fresh, crushed pineapple, hu...\n",
       "spanish         [chopped cilantro fresh, hot spanish paprika, ...\n",
       "thai            [chopped cilantro fresh, red vinegar white whi...\n",
       "vietnamese      [chopped cilantro fresh, greens, buns, red win...\n",
       "Name: ingredients, dtype: object"
      ]
     },
     "execution_count": 115,
     "metadata": {},
     "output_type": "execute_result"
    }
   ],
   "source": [
    "# Get unique ingredients by cuisine\n",
    "def remove_duplicates(value):\n",
    "    return list(set(value))\n",
    "\n",
    "unique_ingredients_cuisine = all_ingredients_cuisine.apply(remove_duplicates)\n",
    "\n",
    "unique_ingredients_cuisine\n"
   ]
  },
  {
   "cell_type": "markdown",
   "metadata": {},
   "source": [
    "### Number of unique ingredients used by cuisine"
   ]
  },
  {
   "cell_type": "code",
   "execution_count": 116,
   "metadata": {},
   "outputs": [
    {
     "data": {
      "text/plain": [
       "Text(0.5,0,'Cuisine')"
      ]
     },
     "execution_count": 116,
     "metadata": {},
     "output_type": "execute_result"
    },
    {
     "data": {
      "text/plain": [
       "Text(0,0.5,'Number of unique Ingredients')"
      ]
     },
     "execution_count": 116,
     "metadata": {},
     "output_type": "execute_result"
    },
    {
     "data": {
      "text/plain": [
       "Text(0.5,1,'Unique ingredients by cuisine')"
      ]
     },
     "execution_count": 116,
     "metadata": {},
     "output_type": "execute_result"
    },
    {
     "data": {
      "image/png": "[encoded data removed]",
      "text/plain": [
       "<Figure size 720x576 with 1 Axes>"
      ]
     },
     "metadata": {},
     "output_type": "display_data"
    }
   ],
   "source": [
    "to_plot = unique_ingredients_cuisine.apply(len).sort_values(ascending=False)\n",
    "ax = to_plot.plot(kind='bar', rot=45, fontsize=12)\n",
    "ax.set_xlabel('Cuisine', fontsize=13)\n",
    "ax.set_ylabel('Number of unique Ingredients', fontsize=13)\n",
    "ax.set_title('Unique ingredients by cuisine', fontsize=17)"
   ]
  },
  {
   "cell_type": "markdown",
   "metadata": {},
   "source": [
    "### Unique ingredients in the dataset"
   ]
  },
  {
   "cell_type": "code",
   "execution_count": 117,
   "metadata": {},
   "outputs": [
    {
     "name": "stdout",
     "output_type": "stream",
     "text": [
      "There are 6714 unique ingredients\n"
     ]
    }
   ],
   "source": [
    "unique_ingredients = Series(get_ingredients(unique_ingredients_cuisine).unique())\n",
    "print('There are', str(len(unique_ingredients)), 'unique ingredients')"
   ]
  },
  {
   "cell_type": "markdown",
   "metadata": {},
   "source": [
    "### Top 10 ingredients per cuisine"
   ]
  },
  {
   "cell_type": "code",
   "execution_count": 118,
   "metadata": {},
   "outputs": [
    {
     "name": "stderr",
     "output_type": "stream",
     "text": [
      "C:\\Users\\Rafael\\Anaconda3\\envs\\data3\\lib\\site-packages\\ipykernel\\__main__.py:9: FutureWarning: from_items is deprecated. Please use DataFrame.from_dict(dict(items), ...) instead. DataFrame.from_dict(OrderedDict(items)) may be used to preserve the key order.\n"
     ]
    },
    {
     "data": {
      "text/html": [
       "<div>\n",
       "<style scoped>\n",
       "    .dataframe tbody tr th:only-of-type {\n",
       "        vertical-align: middle;\n",
       "    }\n",
       "\n",
       "    .dataframe tbody tr th {\n",
       "        vertical-align: top;\n",
       "    }\n",
       "\n",
       "    .dataframe thead th {\n",
       "        text-align: right;\n",
       "    }\n",
       "</style>\n",
       "<table border=\"1\" class=\"dataframe\">\n",
       "  <thead>\n",
       "    <tr style=\"text-align: right;\">\n",
       "      <th></th>\n",
       "      <th>top1</th>\n",
       "      <th>top2</th>\n",
       "      <th>top3</th>\n",
       "      <th>top4</th>\n",
       "      <th>top5</th>\n",
       "      <th>top6</th>\n",
       "      <th>top7</th>\n",
       "      <th>top8</th>\n",
       "      <th>top9</th>\n",
       "      <th>top10</th>\n",
       "    </tr>\n",
       "  </thead>\n",
       "  <tbody>\n",
       "    <tr>\n",
       "      <th>brazilian</th>\n",
       "      <td>salt</td>\n",
       "      <td>onions</td>\n",
       "      <td>olive oil</td>\n",
       "      <td>lime</td>\n",
       "      <td>water</td>\n",
       "      <td>garlic cloves</td>\n",
       "      <td>garlic</td>\n",
       "      <td>cachaca</td>\n",
       "      <td>sugar</td>\n",
       "      <td>tomatoes</td>\n",
       "    </tr>\n",
       "    <tr>\n",
       "      <th>british</th>\n",
       "      <td>salt</td>\n",
       "      <td>all-purpose flour</td>\n",
       "      <td>butter</td>\n",
       "      <td>milk</td>\n",
       "      <td>eggs</td>\n",
       "      <td>unsalted butter</td>\n",
       "      <td>sugar</td>\n",
       "      <td>onions</td>\n",
       "      <td>baking powder</td>\n",
       "      <td>large eggs</td>\n",
       "    </tr>\n",
       "    <tr>\n",
       "      <th>cajun_creole</th>\n",
       "      <td>salt</td>\n",
       "      <td>onions</td>\n",
       "      <td>garlic</td>\n",
       "      <td>green bell pepper</td>\n",
       "      <td>butter</td>\n",
       "      <td>olive oil</td>\n",
       "      <td>cayenne pepper</td>\n",
       "      <td>cajun seasoning</td>\n",
       "      <td>all-purpose flour</td>\n",
       "      <td>water</td>\n",
       "    </tr>\n",
       "    <tr>\n",
       "      <th>chinese</th>\n",
       "      <td>soy sauce</td>\n",
       "      <td>sesame oil</td>\n",
       "      <td>salt</td>\n",
       "      <td>corn starch</td>\n",
       "      <td>sugar</td>\n",
       "      <td>garlic</td>\n",
       "      <td>water</td>\n",
       "      <td>green onions</td>\n",
       "      <td>vegetable oil</td>\n",
       "      <td>scallions</td>\n",
       "    </tr>\n",
       "    <tr>\n",
       "      <th>filipino</th>\n",
       "      <td>salt</td>\n",
       "      <td>garlic</td>\n",
       "      <td>onions</td>\n",
       "      <td>water</td>\n",
       "      <td>soy sauce</td>\n",
       "      <td>pepper</td>\n",
       "      <td>oil</td>\n",
       "      <td>sugar</td>\n",
       "      <td>carrots</td>\n",
       "      <td>ground black pepper</td>\n",
       "    </tr>\n",
       "    <tr>\n",
       "      <th>french</th>\n",
       "      <td>salt</td>\n",
       "      <td>sugar</td>\n",
       "      <td>all-purpose flour</td>\n",
       "      <td>unsalted butter</td>\n",
       "      <td>olive oil</td>\n",
       "      <td>butter</td>\n",
       "      <td>water</td>\n",
       "      <td>large eggs</td>\n",
       "      <td>garlic cloves</td>\n",
       "      <td>ground black pepper</td>\n",
       "    </tr>\n",
       "    <tr>\n",
       "      <th>greek</th>\n",
       "      <td>salt</td>\n",
       "      <td>olive oil</td>\n",
       "      <td>dried oregano</td>\n",
       "      <td>garlic cloves</td>\n",
       "      <td>feta cheese crumbles</td>\n",
       "      <td>extra-virgin olive oil</td>\n",
       "      <td>fresh lemon juice</td>\n",
       "      <td>ground black pepper</td>\n",
       "      <td>garlic</td>\n",
       "      <td>pepper</td>\n",
       "    </tr>\n",
       "    <tr>\n",
       "      <th>indian</th>\n",
       "      <td>salt</td>\n",
       "      <td>onions</td>\n",
       "      <td>garam masala</td>\n",
       "      <td>water</td>\n",
       "      <td>ground turmeric</td>\n",
       "      <td>garlic</td>\n",
       "      <td>cumin seed</td>\n",
       "      <td>ground cumin</td>\n",
       "      <td>vegetable oil</td>\n",
       "      <td>oil</td>\n",
       "    </tr>\n",
       "    <tr>\n",
       "      <th>irish</th>\n",
       "      <td>salt</td>\n",
       "      <td>all-purpose flour</td>\n",
       "      <td>butter</td>\n",
       "      <td>onions</td>\n",
       "      <td>potatoes</td>\n",
       "      <td>sugar</td>\n",
       "      <td>baking soda</td>\n",
       "      <td>baking powder</td>\n",
       "      <td>milk</td>\n",
       "      <td>carrots</td>\n",
       "    </tr>\n",
       "    <tr>\n",
       "      <th>italian</th>\n",
       "      <td>salt</td>\n",
       "      <td>olive oil</td>\n",
       "      <td>garlic cloves</td>\n",
       "      <td>grated parmesan cheese</td>\n",
       "      <td>garlic</td>\n",
       "      <td>ground black pepper</td>\n",
       "      <td>extra-virgin olive oil</td>\n",
       "      <td>onions</td>\n",
       "      <td>water</td>\n",
       "      <td>butter</td>\n",
       "    </tr>\n",
       "    <tr>\n",
       "      <th>jamaican</th>\n",
       "      <td>salt</td>\n",
       "      <td>onions</td>\n",
       "      <td>water</td>\n",
       "      <td>garlic</td>\n",
       "      <td>ground allspice</td>\n",
       "      <td>pepper</td>\n",
       "      <td>scallions</td>\n",
       "      <td>dried thyme</td>\n",
       "      <td>black pepper</td>\n",
       "      <td>garlic cloves</td>\n",
       "    </tr>\n",
       "    <tr>\n",
       "      <th>japanese</th>\n",
       "      <td>soy sauce</td>\n",
       "      <td>salt</td>\n",
       "      <td>mirin</td>\n",
       "      <td>sugar</td>\n",
       "      <td>water</td>\n",
       "      <td>sake</td>\n",
       "      <td>rice vinegar</td>\n",
       "      <td>vegetable oil</td>\n",
       "      <td>scallions</td>\n",
       "      <td>ginger</td>\n",
       "    </tr>\n",
       "    <tr>\n",
       "      <th>korean</th>\n",
       "      <td>soy sauce</td>\n",
       "      <td>sesame oil</td>\n",
       "      <td>garlic</td>\n",
       "      <td>green onions</td>\n",
       "      <td>sugar</td>\n",
       "      <td>salt</td>\n",
       "      <td>water</td>\n",
       "      <td>sesame seeds</td>\n",
       "      <td>onions</td>\n",
       "      <td>scallions</td>\n",
       "    </tr>\n",
       "    <tr>\n",
       "      <th>mexican</th>\n",
       "      <td>salt</td>\n",
       "      <td>onions</td>\n",
       "      <td>ground cumin</td>\n",
       "      <td>garlic</td>\n",
       "      <td>olive oil</td>\n",
       "      <td>chili powder</td>\n",
       "      <td>jalapeno chilies</td>\n",
       "      <td>sour cream</td>\n",
       "      <td>avocado</td>\n",
       "      <td>corn tortillas</td>\n",
       "    </tr>\n",
       "    <tr>\n",
       "      <th>moroccan</th>\n",
       "      <td>salt</td>\n",
       "      <td>olive oil</td>\n",
       "      <td>ground cumin</td>\n",
       "      <td>onions</td>\n",
       "      <td>garlic cloves</td>\n",
       "      <td>ground cinnamon</td>\n",
       "      <td>water</td>\n",
       "      <td>ground ginger</td>\n",
       "      <td>carrots</td>\n",
       "      <td>paprika</td>\n",
       "    </tr>\n",
       "    <tr>\n",
       "      <th>russian</th>\n",
       "      <td>salt</td>\n",
       "      <td>sugar</td>\n",
       "      <td>onions</td>\n",
       "      <td>all-purpose flour</td>\n",
       "      <td>sour cream</td>\n",
       "      <td>eggs</td>\n",
       "      <td>water</td>\n",
       "      <td>butter</td>\n",
       "      <td>unsalted butter</td>\n",
       "      <td>large eggs</td>\n",
       "    </tr>\n",
       "    <tr>\n",
       "      <th>southern_us</th>\n",
       "      <td>salt</td>\n",
       "      <td>butter</td>\n",
       "      <td>all-purpose flour</td>\n",
       "      <td>sugar</td>\n",
       "      <td>large eggs</td>\n",
       "      <td>baking powder</td>\n",
       "      <td>water</td>\n",
       "      <td>unsalted butter</td>\n",
       "      <td>milk</td>\n",
       "      <td>buttermilk</td>\n",
       "    </tr>\n",
       "    <tr>\n",
       "      <th>spanish</th>\n",
       "      <td>salt</td>\n",
       "      <td>olive oil</td>\n",
       "      <td>garlic cloves</td>\n",
       "      <td>extra-virgin olive oil</td>\n",
       "      <td>onions</td>\n",
       "      <td>water</td>\n",
       "      <td>tomatoes</td>\n",
       "      <td>ground black pepper</td>\n",
       "      <td>red bell pepper</td>\n",
       "      <td>pepper</td>\n",
       "    </tr>\n",
       "    <tr>\n",
       "      <th>thai</th>\n",
       "      <td>fish sauce</td>\n",
       "      <td>garlic</td>\n",
       "      <td>salt</td>\n",
       "      <td>coconut milk</td>\n",
       "      <td>vegetable oil</td>\n",
       "      <td>soy sauce</td>\n",
       "      <td>sugar</td>\n",
       "      <td>water</td>\n",
       "      <td>garlic cloves</td>\n",
       "      <td>fresh lime juice</td>\n",
       "    </tr>\n",
       "    <tr>\n",
       "      <th>vietnamese</th>\n",
       "      <td>fish sauce</td>\n",
       "      <td>sugar</td>\n",
       "      <td>salt</td>\n",
       "      <td>garlic</td>\n",
       "      <td>water</td>\n",
       "      <td>carrots</td>\n",
       "      <td>soy sauce</td>\n",
       "      <td>shallots</td>\n",
       "      <td>garlic cloves</td>\n",
       "      <td>vegetable oil</td>\n",
       "    </tr>\n",
       "  </tbody>\n",
       "</table>\n",
       "</div>"
      ],
      "text/plain": [
       "                    top1               top2               top3  \\\n",
       "brazilian           salt             onions          olive oil   \n",
       "british             salt  all-purpose flour             butter   \n",
       "cajun_creole        salt             onions             garlic   \n",
       "chinese        soy sauce         sesame oil               salt   \n",
       "filipino            salt             garlic             onions   \n",
       "french              salt              sugar  all-purpose flour   \n",
       "greek               salt          olive oil      dried oregano   \n",
       "indian              salt             onions       garam masala   \n",
       "irish               salt  all-purpose flour             butter   \n",
       "italian             salt          olive oil      garlic cloves   \n",
       "jamaican            salt             onions              water   \n",
       "japanese       soy sauce               salt              mirin   \n",
       "korean         soy sauce         sesame oil             garlic   \n",
       "mexican             salt             onions       ground cumin   \n",
       "moroccan            salt          olive oil       ground cumin   \n",
       "russian             salt              sugar             onions   \n",
       "southern_us         salt             butter  all-purpose flour   \n",
       "spanish             salt          olive oil      garlic cloves   \n",
       "thai          fish sauce             garlic               salt   \n",
       "vietnamese    fish sauce              sugar               salt   \n",
       "\n",
       "                                top4                  top5  \\\n",
       "brazilian                       lime                 water   \n",
       "british                         milk                  eggs   \n",
       "cajun_creole       green bell pepper                butter   \n",
       "chinese                  corn starch                 sugar   \n",
       "filipino                       water             soy sauce   \n",
       "french               unsalted butter             olive oil   \n",
       "greek                  garlic cloves  feta cheese crumbles   \n",
       "indian                         water       ground turmeric   \n",
       "irish                         onions              potatoes   \n",
       "italian       grated parmesan cheese                garlic   \n",
       "jamaican                      garlic       ground allspice   \n",
       "japanese                       sugar                 water   \n",
       "korean                  green onions                 sugar   \n",
       "mexican                       garlic             olive oil   \n",
       "moroccan                      onions         garlic cloves   \n",
       "russian            all-purpose flour            sour cream   \n",
       "southern_us                    sugar            large eggs   \n",
       "spanish       extra-virgin olive oil                onions   \n",
       "thai                    coconut milk         vegetable oil   \n",
       "vietnamese                    garlic                 water   \n",
       "\n",
       "                                top6                    top7  \\\n",
       "brazilian              garlic cloves                  garlic   \n",
       "british              unsalted butter                   sugar   \n",
       "cajun_creole               olive oil          cayenne pepper   \n",
       "chinese                       garlic                   water   \n",
       "filipino                      pepper                     oil   \n",
       "french                        butter                   water   \n",
       "greek         extra-virgin olive oil       fresh lemon juice   \n",
       "indian                        garlic              cumin seed   \n",
       "irish                          sugar             baking soda   \n",
       "italian          ground black pepper  extra-virgin olive oil   \n",
       "jamaican                      pepper               scallions   \n",
       "japanese                        sake            rice vinegar   \n",
       "korean                          salt                   water   \n",
       "mexican                 chili powder        jalapeno chilies   \n",
       "moroccan             ground cinnamon                   water   \n",
       "russian                         eggs                   water   \n",
       "southern_us            baking powder                   water   \n",
       "spanish                        water                tomatoes   \n",
       "thai                       soy sauce                   sugar   \n",
       "vietnamese                   carrots               soy sauce   \n",
       "\n",
       "                             top8               top9                top10  \n",
       "brazilian                 cachaca              sugar             tomatoes  \n",
       "british                    onions      baking powder           large eggs  \n",
       "cajun_creole      cajun seasoning  all-purpose flour                water  \n",
       "chinese              green onions      vegetable oil            scallions  \n",
       "filipino                    sugar            carrots  ground black pepper  \n",
       "french                 large eggs      garlic cloves  ground black pepper  \n",
       "greek         ground black pepper             garlic               pepper  \n",
       "indian               ground cumin      vegetable oil                  oil  \n",
       "irish               baking powder               milk              carrots  \n",
       "italian                    onions              water               butter  \n",
       "jamaican              dried thyme       black pepper        garlic cloves  \n",
       "japanese            vegetable oil          scallions               ginger  \n",
       "korean               sesame seeds             onions            scallions  \n",
       "mexican                sour cream            avocado       corn tortillas  \n",
       "moroccan            ground ginger            carrots              paprika  \n",
       "russian                    butter    unsalted butter           large eggs  \n",
       "southern_us       unsalted butter               milk           buttermilk  \n",
       "spanish       ground black pepper    red bell pepper               pepper  \n",
       "thai                        water      garlic cloves     fresh lime juice  \n",
       "vietnamese               shallots      garlic cloves        vegetable oil  "
      ]
     },
     "execution_count": 118,
     "metadata": {},
     "output_type": "execute_result"
    }
   ],
   "source": [
    "top10 = Series()\n",
    "\n",
    "for cuisine, list_ingredients in ingredient_count_by_cuisine.items():\n",
    "    top10.loc[cuisine] = []\n",
    "    for ingredient, occurrence in Series(list_ingredients)[:10].items():\n",
    "        top10.loc[cuisine].append(ingredient)\n",
    "\n",
    "\n",
    "df_top10 = DataFrame.from_items(zip(top10.index, top10.values)).T\n",
    "df_top10.columns = ['top{}'.format(i) for i in range(1, 11)]\n",
    "df_top10"
   ]
  }
 ],
 "metadata": {
  "kernelspec": {
   "display_name": "Python [conda env:data3]",
   "language": "python",
   "name": "conda-env-data3-py"
  },
  "language_info": {
   "codemirror_mode": {
    "name": "ipython",
    "version": 3
   },
   "file_extension": ".py",
   "mimetype": "text/x-python",
   "name": "python",
   "nbconvert_exporter": "python",
   "pygments_lexer": "ipython3",
   "version": "3.6.7"
  },
  "varInspector": {
   "cols": {
    "lenName": 16,
    "lenType": 16,
    "lenVar": 40
   },
   "kernels_config": {
    "python": {
     "delete_cmd_postfix": "",
     "delete_cmd_prefix": "del ",
     "library": "var_list.py",
     "varRefreshCmd": "print(var_dic_list())"
    },
    "r": {
     "delete_cmd_postfix": ") ",
     "delete_cmd_prefix": "rm(",
     "library": "var_list.r",
     "varRefreshCmd": "cat(var_dic_list()) "
    }
   },
   "types_to_exclude": [
    "module",
    "function",
    "builtin_function_or_method",
    "instance",
    "_Feature"
   ],
   "window_display": false
  }
 },
 "nbformat": 4,
 "nbformat_minor": 2
}
